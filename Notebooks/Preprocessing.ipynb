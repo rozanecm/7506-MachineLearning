{
 "cells": [
  {
   "cell_type": "markdown",
   "metadata": {
    "deletable": true,
    "editable": true
   },
   "source": [
    "# TP2: Machine Learning"
   ]
  },
  {
   "cell_type": "markdown",
   "metadata": {
    "deletable": true,
    "editable": true
   },
   "source": [
    "### Imports"
   ]
  },
  {
   "cell_type": "code",
   "execution_count": null,
   "metadata": {
    "collapsed": true,
    "deletable": true,
    "editable": true
   },
   "outputs": [],
   "source": [
    "import pandas as pd\n",
    "from datetime import datetime\n",
    "import scipy.spatial"
   ]
  },
  {
   "cell_type": "markdown",
   "metadata": {
    "deletable": true,
    "editable": true
   },
   "source": [
    "### Data loading"
   ]
  },
  {
   "cell_type": "code",
   "execution_count": null,
   "metadata": {
    "collapsed": false,
    "deletable": true,
    "editable": true
   },
   "outputs": [],
   "source": [
    "stationDF = pd.read_csv('../CSVs/station.csv')\n",
    "trainingSet = pd.read_csv('../CSVs/trip_train.csv')"
   ]
  },
  {
   "cell_type": "markdown",
   "metadata": {
    "deletable": true,
    "editable": true
   },
   "source": [
    "## Basic data analysis"
   ]
  },
  {
   "cell_type": "code",
   "execution_count": null,
   "metadata": {
    "collapsed": false
   },
   "outputs": [],
   "source": [
    "stationDF.head()"
   ]
  },
  {
   "cell_type": "code",
   "execution_count": null,
   "metadata": {
    "collapsed": false
   },
   "outputs": [],
   "source": [
    "print \"stationDF.shape: \", stationDF.shape"
   ]
  },
  {
   "cell_type": "code",
   "execution_count": null,
   "metadata": {
    "collapsed": false
   },
   "outputs": [],
   "source": [
    "distancesDF = pd.DataFrame(columns=[\"station1\", \"station2\", \"distance\"])"
   ]
  },
  {
   "cell_type": "code",
   "execution_count": null,
   "metadata": {
    "collapsed": false
   },
   "outputs": [],
   "source": [
    "scipy.spatial.distance_matrix([scipy.spatial.distance.cityblock(stationDF.lat, stationDF.long), 70], \\\n",
    "                              [scipy.spatial.distance.cityblock(stationDF.lat, stationDF.long), 70])"
   ]
  },
  {
   "cell_type": "code",
   "execution_count": null,
   "metadata": {
    "collapsed": false
   },
   "outputs": [],
   "source": [
    "for station, lat, lon in zip(stationDF.id, stationDF.lat, stationDF.long):\n",
    "    for station2, lat2, lon2 in zip(stationDF.id, stationDF.lat, stationDF.long):\n",
    "        distancesDF = distancesDF.append({\n",
    "            \"station1\": station,\n",
    "            \"station2\": station2,\n",
    "            \"distance\": scipy.spatial.distance.cityblock([lat, lon], [lat2, lon2])\n",
    "        }, ignore_index=True)"
   ]
  },
  {
   "cell_type": "code",
   "execution_count": null,
   "metadata": {
    "collapsed": false
   },
   "outputs": [],
   "source": [
    "distancesDF.head()"
   ]
  },
  {
   "cell_type": "markdown",
   "metadata": {},
   "source": [
    "### Training set"
   ]
  },
  {
   "cell_type": "code",
   "execution_count": null,
   "metadata": {
    "collapsed": false,
    "deletable": true,
    "editable": true
   },
   "outputs": [],
   "source": [
    "trainingSet.head()"
   ]
  },
  {
   "cell_type": "code",
   "execution_count": null,
   "metadata": {
    "collapsed": false,
    "deletable": true,
    "editable": true
   },
   "outputs": [],
   "source": [
    "trainingSet.size"
   ]
  },
  {
   "cell_type": "code",
   "execution_count": null,
   "metadata": {
    "collapsed": false,
    "deletable": true,
    "editable": true
   },
   "outputs": [],
   "source": [
    "trainingSet.dtypes"
   ]
  },
  {
   "cell_type": "markdown",
   "metadata": {
    "deletable": true,
    "editable": true
   },
   "source": [
    "### convert to date to datetime"
   ]
  },
  {
   "cell_type": "code",
   "execution_count": null,
   "metadata": {
    "collapsed": false,
    "deletable": true,
    "editable": true,
    "scrolled": true
   },
   "outputs": [],
   "source": [
    "trainingSet['start_date'] = pd.to_datetime(trainingSet.start_date)\n",
    "trainingSet['end_date'] = pd.to_datetime(trainingSet.end_date)"
   ]
  },
  {
   "cell_type": "code",
   "execution_count": null,
   "metadata": {
    "collapsed": false,
    "deletable": true,
    "editable": true
   },
   "outputs": [],
   "source": [
    "trainingSet.dtypes"
   ]
  },
  {
   "cell_type": "code",
   "execution_count": null,
   "metadata": {
    "collapsed": false,
    "deletable": true,
    "editable": true
   },
   "outputs": [],
   "source": [
    "trainingSet['start_dayOfWeek'] = trainingSet.start_date.dt.dayofweek\n",
    "trainingSet['start_week'] = trainingSet.start_date.dt.week\n",
    "trainingSet['start_quarter'] = trainingSet.start_date.dt.quarter\n",
    "trainingSet['start_time'] = trainingSet.start_date.dt.time\n",
    "trainingSet['start_hour'] = trainingSet.start_date.dt.hour\n",
    "trainingSet['start_minute'] = trainingSet.start_date.dt.minute\n",
    "trainingSet['start_date'] = trainingSet.start_date.dt.date\n",
    "\n",
    "trainingSet['end_dayOfWeek'] = trainingSet.end_date.dt.dayofweek\n",
    "trainingSet['end_week'] = trainingSet.end_date.dt.week\n",
    "trainingSet['end_quarter'] = trainingSet.end_date.dt.quarter\n",
    "trainingSet['end_time'] = trainingSet.end_date.dt.time\n",
    "trainingSet['end_hour'] = trainingSet.end_date.dt.hour\n",
    "trainingSet['end_minute'] = trainingSet.end_date.dt.minute\n",
    "trainingSet['end_date'] = trainingSet.end_date.dt.date"
   ]
  },
  {
   "cell_type": "code",
   "execution_count": null,
   "metadata": {
    "collapsed": false,
    "deletable": true,
    "editable": true
   },
   "outputs": [],
   "source": [
    "trainingSet.head()"
   ]
  },
  {
   "cell_type": "code",
   "execution_count": null,
   "metadata": {
    "collapsed": false,
    "deletable": true,
    "editable": true
   },
   "outputs": [],
   "source": [
    "list(trainingSet.columns.values)"
   ]
  },
  {
   "cell_type": "code",
   "execution_count": null,
   "metadata": {
    "collapsed": false,
    "deletable": true,
    "editable": true
   },
   "outputs": [],
   "source": [
    "trainingSet = trainingSet[['id', \n",
    "                           'duration', \n",
    "                           'start_date',\n",
    "                           'start_dayOfWeek',\n",
    "                           'start_week',\n",
    "                           'start_quarter', \n",
    "                           'start_time',\n",
    "                           'start_hour',\n",
    "                           'start_minute',\n",
    "                           'start_station_name', \n",
    "                           'start_station_id', \n",
    "                           'end_date', \n",
    "                           'end_dayOfWeek',\n",
    "                           'end_week',\n",
    "                           'end_quarter', \n",
    "                           'end_time',\n",
    "                           'end_hour',\n",
    "                           'end_minute',\n",
    "                           'end_station_name', \n",
    "                           'end_station_id', \n",
    "                           'bike_id',\n",
    "                           'subscription_type',\n",
    "                           'zip_code']]"
   ]
  },
  {
   "cell_type": "code",
   "execution_count": null,
   "metadata": {
    "collapsed": false,
    "deletable": true,
    "editable": true,
    "scrolled": true
   },
   "outputs": [],
   "source": [
    "trainingSet.head()"
   ]
  },
  {
   "cell_type": "code",
   "execution_count": null,
   "metadata": {
    "collapsed": false,
    "deletable": true,
    "editable": true
   },
   "outputs": [],
   "source": [
    "trainingSet.dtypes"
   ]
  },
  {
   "cell_type": "markdown",
   "metadata": {},
   "source": [
    "## Save processed data"
   ]
  },
  {
   "cell_type": "code",
   "execution_count": null,
   "metadata": {
    "collapsed": true,
    "deletable": true,
    "editable": true
   },
   "outputs": [],
   "source": [
    "trainingSet.to_csv('../CSVs/improved_trip_train.csv', index=False)"
   ]
  }
 ],
 "metadata": {
  "kernelspec": {
   "display_name": "Python 2",
   "language": "python",
   "name": "python2"
  },
  "language_info": {
   "codemirror_mode": {
    "name": "ipython",
    "version": 2
   },
   "file_extension": ".py",
   "mimetype": "text/x-python",
   "name": "python",
   "nbconvert_exporter": "python",
   "pygments_lexer": "ipython2",
   "version": "2.7.12"
  }
 },
 "nbformat": 4,
 "nbformat_minor": 2
}
