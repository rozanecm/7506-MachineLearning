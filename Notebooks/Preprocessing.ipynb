{
 "cells": [
  {
   "cell_type": "markdown",
   "metadata": {
    "deletable": true,
    "editable": true
   },
   "source": [
    "# TP2: Machine Learning"
   ]
  },
  {
   "cell_type": "markdown",
   "metadata": {
    "deletable": true,
    "editable": true
   },
   "source": [
    "### Imports"
   ]
  },
  {
   "cell_type": "code",
   "execution_count": null,
   "metadata": {
    "collapsed": true,
    "deletable": true,
    "editable": true
   },
   "outputs": [],
   "source": [
    "import pandas as pd\n",
    "from datetime import datetime\n",
    "import scipy.spatial\n",
    "from sklearn import preprocessing"
   ]
  },
  {
   "cell_type": "markdown",
   "metadata": {
    "deletable": true,
    "editable": true
   },
   "source": [
    "### Data loading"
   ]
  },
  {
   "cell_type": "code",
   "execution_count": null,
   "metadata": {
    "collapsed": true,
    "deletable": true,
    "editable": true
   },
   "outputs": [],
   "source": [
    "stationDF = pd.read_csv('../CSVs/station.csv')\n",
    "trainingSet = pd.read_csv('../CSVs/trip_train.csv')\n",
    "testingSet = pd.read_csv('../CSVs/trip_test.csv')"
   ]
  },
  {
   "cell_type": "markdown",
   "metadata": {
    "deletable": true,
    "editable": true
   },
   "source": [
    "## Basic data analysis"
   ]
  },
  {
   "cell_type": "code",
   "execution_count": null,
   "metadata": {
    "collapsed": false,
    "deletable": true,
    "editable": true
   },
   "outputs": [],
   "source": [
    "stationDF"
   ]
  },
  {
   "cell_type": "code",
   "execution_count": null,
   "metadata": {
    "collapsed": false,
    "deletable": true,
    "editable": true
   },
   "outputs": [],
   "source": [
    "print \"stationDF.shape: \", stationDF.shape"
   ]
  },
  {
   "cell_type": "code",
   "execution_count": null,
   "metadata": {
    "collapsed": true,
    "deletable": true,
    "editable": true
   },
   "outputs": [],
   "source": [
    "distancesDF = pd.DataFrame(columns=[\"start_station_id\", \"end_station_id\", \"distance\"])"
   ]
  },
  {
   "cell_type": "code",
   "execution_count": null,
   "metadata": {
    "collapsed": false,
    "deletable": true,
    "editable": true
   },
   "outputs": [],
   "source": [
    "scipy.spatial.distance_matrix([scipy.spatial.distance.cityblock(stationDF.lat, stationDF.long), 70], \\\n",
    "                              [scipy.spatial.distance.cityblock(stationDF.lat, stationDF.long), 70])"
   ]
  },
  {
   "cell_type": "code",
   "execution_count": null,
   "metadata": {
    "collapsed": true,
    "deletable": true,
    "editable": true
   },
   "outputs": [],
   "source": [
    "for station, lat, lon in zip(stationDF.id, stationDF.lat, stationDF.long):\n",
    "    for station2, lat2, lon2 in zip(stationDF.id, stationDF.lat, stationDF.long):\n",
    "        distancesDF = distancesDF.append({\n",
    "            \"start_station_id\": station,\n",
    "            \"end_station_id\": station2,\n",
    "            \"distance\": scipy.spatial.distance.cityblock([lat, lon], [lat2, lon2])\n",
    "        }, ignore_index=True)\n",
    "        \n",
    "\n",
    "        "
   ]
  },
  {
   "cell_type": "code",
   "execution_count": null,
   "metadata": {
    "collapsed": false,
    "deletable": true,
    "editable": true
   },
   "outputs": [],
   "source": [
    "distancesDF"
   ]
  },
  {
   "cell_type": "code",
   "execution_count": null,
   "metadata": {
    "collapsed": false,
    "deletable": true,
    "editable": true
   },
   "outputs": [],
   "source": [
    "distancesDF['start_station_id'] = distancesDF.start_station_id.astype(int)\n",
    "distancesDF['end_station_id'] = distancesDF.end_station_id.astype(int)\n",
    "distancesDF"
   ]
  },
  {
   "cell_type": "markdown",
   "metadata": {
    "deletable": true,
    "editable": true
   },
   "source": [
    "### Training set"
   ]
  },
  {
   "cell_type": "code",
   "execution_count": null,
   "metadata": {
    "collapsed": false,
    "deletable": true,
    "editable": true
   },
   "outputs": [],
   "source": [
    "trainingSet.head()"
   ]
  },
  {
   "cell_type": "code",
   "execution_count": null,
   "metadata": {
    "collapsed": false,
    "deletable": true,
    "editable": true
   },
   "outputs": [],
   "source": [
    "trainingSet.dtypes"
   ]
  },
  {
   "cell_type": "markdown",
   "metadata": {
    "deletable": true,
    "editable": true
   },
   "source": [
    "### convert to date to datetime"
   ]
  },
  {
   "cell_type": "code",
   "execution_count": null,
   "metadata": {
    "collapsed": true,
    "deletable": true,
    "editable": true,
    "scrolled": true
   },
   "outputs": [],
   "source": [
    "trainingSet['start_date'] = pd.to_datetime(trainingSet.start_date)\n",
    "trainingSet['end_date'] = pd.to_datetime(trainingSet.end_date)"
   ]
  },
  {
   "cell_type": "code",
   "execution_count": null,
   "metadata": {
    "collapsed": true,
    "deletable": true,
    "editable": true,
    "scrolled": true
   },
   "outputs": [],
   "source": [
    "testingSet['start_date'] = pd.to_datetime(testingSet.start_date)\n",
    "testingSet['end_date'] = pd.to_datetime(testingSet.end_date)"
   ]
  },
  {
   "cell_type": "code",
   "execution_count": null,
   "metadata": {
    "collapsed": false,
    "deletable": true,
    "editable": true
   },
   "outputs": [],
   "source": [
    "trainingSet.dtypes"
   ]
  },
  {
   "cell_type": "code",
   "execution_count": null,
   "metadata": {
    "collapsed": true,
    "deletable": true,
    "editable": true
   },
   "outputs": [],
   "source": [
    "trainingSet['start_dayOfWeek'] = trainingSet.start_date.dt.dayofweek\n",
    "trainingSet['start_week'] = trainingSet.start_date.dt.week\n",
    "trainingSet['start_quarter'] = trainingSet.start_date.dt.quarter\n",
    "trainingSet['start_time'] = trainingSet.start_date.dt.time\n",
    "trainingSet['start_hour'] = trainingSet.start_date.dt.hour\n",
    "trainingSet['start_minute'] = trainingSet.start_date.dt.minute\n",
    "trainingSet['start_date'] = trainingSet.start_date.dt.date\n",
    "\n",
    "trainingSet['end_dayOfWeek'] = trainingSet.end_date.dt.dayofweek\n",
    "trainingSet['end_week'] = trainingSet.end_date.dt.week\n",
    "trainingSet['end_quarter'] = trainingSet.end_date.dt.quarter\n",
    "trainingSet['end_time'] = trainingSet.end_date.dt.time\n",
    "trainingSet['end_hour'] = trainingSet.end_date.dt.hour\n",
    "trainingSet['end_minute'] = trainingSet.end_date.dt.minute\n",
    "trainingSet['end_date'] = trainingSet.end_date.dt.date"
   ]
  },
  {
   "cell_type": "code",
   "execution_count": null,
   "metadata": {
    "collapsed": true,
    "deletable": true,
    "editable": true
   },
   "outputs": [],
   "source": [
    "testingSet['start_dayOfWeek'] = testingSet.start_date.dt.dayofweek\n",
    "testingSet['start_week'] = testingSet.start_date.dt.week\n",
    "testingSet['start_quarter'] = testingSet.start_date.dt.quarter\n",
    "testingSet['start_time'] = testingSet.start_date.dt.time\n",
    "testingSet['start_hour'] = testingSet.start_date.dt.hour\n",
    "testingSet['start_minute'] = testingSet.start_date.dt.minute\n",
    "testingSet['start_date'] = testingSet.start_date.dt.date\n",
    "\n",
    "testingSet['end_dayOfWeek'] = testingSet.end_date.dt.dayofweek\n",
    "testingSet['end_week'] = testingSet.end_date.dt.week\n",
    "testingSet['end_quarter'] =testingSet.end_date.dt.quarter\n",
    "testingSet['end_time'] = testingSet.end_date.dt.time\n",
    "testingSet['end_hour'] = testingSet.end_date.dt.hour\n",
    "testingSet['end_minute'] = testingSet.end_date.dt.minute\n",
    "testingSet['end_date'] = testingSet.end_date.dt.date"
   ]
  },
  {
   "cell_type": "code",
   "execution_count": null,
   "metadata": {
    "collapsed": true
   },
   "outputs": [],
   "source": [
    "trainingSet['start_year'] = trainingSet.start_date.dt.year\n",
    "trainingSet['start_month'] = trainingSet.start_date.dt.month\n",
    "trainingSet['start_day'] = trainingSet.start_date.dt.day\n",
    "\n",
    "trainingSet['end_year'] = trainingSet.end_date.dt.year\n",
    "trainingSet['end_month'] = trainingSet.end_date.dt.month\n",
    "trainingSet['end_day'] = trainingSet.end_date.dt.day"
   ]
  },
  {
   "cell_type": "code",
   "execution_count": null,
   "metadata": {
    "collapsed": false,
    "deletable": true,
    "editable": true
   },
   "outputs": [],
   "source": [
    "trainingSet.head()"
   ]
  },
  {
   "cell_type": "code",
   "execution_count": null,
   "metadata": {
    "collapsed": false,
    "deletable": true,
    "editable": true
   },
   "outputs": [],
   "source": [
    "list(trainingSet.columns.values)"
   ]
  },
  {
   "cell_type": "code",
   "execution_count": null,
   "metadata": {
    "collapsed": true,
    "deletable": true,
    "editable": true
   },
   "outputs": [],
   "source": [
    "trainingSet = trainingSet[['id', \n",
    "                           'duration', \n",
    "                           'start_date',\n",
    "                           'start_dayOfWeek',\n",
    "                           'start_week',\n",
    "                           'start_quarter', \n",
    "                           'start_time',\n",
    "                           'start_hour',\n",
    "                           'start_minute',\n",
    "                           'start_station_name', \n",
    "                           'start_station_id', \n",
    "                           'end_date', \n",
    "                           'end_dayOfWeek',\n",
    "                           'end_week',\n",
    "                           'end_quarter', \n",
    "                           'end_time',\n",
    "                           'end_hour',\n",
    "                           'end_minute',\n",
    "                           'end_station_name', \n",
    "                           'end_station_id', \n",
    "                           'bike_id',\n",
    "                           'subscription_type',\n",
    "                           'zip_code']]"
   ]
  },
  {
   "cell_type": "code",
   "execution_count": null,
   "metadata": {
    "collapsed": false,
    "deletable": true,
    "editable": true
   },
   "outputs": [],
   "source": [
    "list(testingSet.columns.values)"
   ]
  },
  {
   "cell_type": "code",
   "execution_count": null,
   "metadata": {
    "collapsed": true,
    "deletable": true,
    "editable": true
   },
   "outputs": [],
   "source": [
    "testingSet = testingSet[['id', \n",
    "                           'start_date',\n",
    "                           'start_dayOfWeek',\n",
    "                           'start_week',\n",
    "                           'start_quarter', \n",
    "                           'start_time',\n",
    "                           'start_hour',\n",
    "                           'start_minute',\n",
    "                           'start_station_name', \n",
    "                           'start_station_id', \n",
    "                           'end_date', \n",
    "                           'end_dayOfWeek',\n",
    "                           'end_week',\n",
    "                           'end_quarter', \n",
    "                           'end_time',\n",
    "                           'end_hour',\n",
    "                           'end_minute',\n",
    "                           'end_station_name', \n",
    "                           'end_station_id', \n",
    "                           'bike_id',\n",
    "                           'subscription_type',\n",
    "                           'zip_code']]\n",
    "                  "
   ]
  },
  {
   "cell_type": "code",
   "execution_count": null,
   "metadata": {
    "collapsed": false,
    "deletable": true,
    "editable": true
   },
   "outputs": [],
   "source": [
    "trainingSet.dtypes"
   ]
  },
  {
   "cell_type": "code",
   "execution_count": null,
   "metadata": {
    "collapsed": false,
    "deletable": true,
    "editable": true
   },
   "outputs": [],
   "source": [
    "testingSet.dtypes"
   ]
  },
  {
   "cell_type": "code",
   "execution_count": null,
   "metadata": {
    "collapsed": false,
    "deletable": true,
    "editable": true
   },
   "outputs": [],
   "source": [
    "trainingSet"
   ]
  },
  {
   "cell_type": "code",
   "execution_count": null,
   "metadata": {
    "collapsed": false,
    "deletable": true,
    "editable": true
   },
   "outputs": [],
   "source": [
    "testingSet"
   ]
  },
  {
   "cell_type": "markdown",
   "metadata": {
    "deletable": true,
    "editable": true
   },
   "source": [
    "## Save processed data"
   ]
  },
  {
   "cell_type": "code",
   "execution_count": null,
   "metadata": {
    "collapsed": true,
    "deletable": true,
    "editable": true
   },
   "outputs": [],
   "source": [
    "trainingSet.to_csv('../CSVs/improved_trip_train.csv', index=False)"
   ]
  },
  {
   "cell_type": "code",
   "execution_count": null,
   "metadata": {
    "collapsed": true,
    "deletable": true,
    "editable": true
   },
   "outputs": [],
   "source": [
    "testingSet.to_csv('../CSVs/improved_trip_test.csv', index=False)"
   ]
  },
  {
   "cell_type": "markdown",
   "metadata": {
    "deletable": true,
    "editable": true
   },
   "source": [
    "# ///////////////////////////////////////////////////////////////////////////////////////////////\n",
    "# ///////////////////////////////////////////////////////////////////////////////////////////////\n",
    "# ///////////////////////////////////////////////////////////////////////////////////////////////\n",
    "# CORRER A PARTIR DE ACA"
   ]
  },
  {
   "cell_type": "code",
   "execution_count": null,
   "metadata": {
    "collapsed": false,
    "deletable": true,
    "editable": true
   },
   "outputs": [],
   "source": [
    "stationDF = pd.read_csv('../CSVs/station.csv')\n",
    "trainingSet = pd.read_csv('../CSVs/improved_trip_train.csv')\n",
    "testingSet = pd.read_csv('../CSVs/improved_trip_test.csv')"
   ]
  },
  {
   "cell_type": "markdown",
   "metadata": {
    "deletable": true,
    "editable": true
   },
   "source": [
    "## Feature Distancia"
   ]
  },
  {
   "cell_type": "code",
   "execution_count": null,
   "metadata": {
    "collapsed": false,
    "deletable": true,
    "editable": true
   },
   "outputs": [],
   "source": [
    "distancesDF = pd.DataFrame(columns=[\"start_station_id\", \"end_station_id\", \"distance\"])\n",
    "for station, lat, lon in zip(stationDF.id, stationDF.lat, stationDF.long):\n",
    "    for station2, lat2, lon2 in zip(stationDF.id, stationDF.lat, stationDF.long):\n",
    "        distancesDF = distancesDF.append({\n",
    "            \"start_station_id\": station,\n",
    "            \"end_station_id\": station2,\n",
    "            \"distance\": scipy.spatial.distance.cityblock([lat, lon], [lat2, lon2])\n",
    "        }, ignore_index=True)\n",
    "        \n",
    "distancesDF['start_station_id'] = distancesDF.start_station_id.astype(int)\n",
    "distancesDF['end_station_id'] = distancesDF.end_station_id.astype(int)\n",
    "distancesDF    "
   ]
  },
  {
   "cell_type": "code",
   "execution_count": null,
   "metadata": {
    "collapsed": true,
    "deletable": true,
    "editable": true
   },
   "outputs": [],
   "source": [
    "trainingSet = pd.merge(trainingSet,distancesDF,on =['start_station_id','end_station_id'],how = 'inner')\n"
   ]
  },
  {
   "cell_type": "code",
   "execution_count": null,
   "metadata": {
    "collapsed": true,
    "deletable": true,
    "editable": true
   },
   "outputs": [],
   "source": [
    "testingSet = pd.merge(testingSet,distancesDF,on =['start_station_id','end_station_id'],how = 'inner')"
   ]
  },
  {
   "cell_type": "markdown",
   "metadata": {
    "deletable": true,
    "editable": true
   },
   "source": [
    "## Feature Historico"
   ]
  },
  {
   "cell_type": "code",
   "execution_count": null,
   "metadata": {
    "collapsed": true,
    "deletable": true,
    "editable": true
   },
   "outputs": [],
   "source": [
    "trainingShort = trainingSet.loc[:,['id','duration','start_station_name','start_station_id','end_station_name','end_station_id']]"
   ]
  },
  {
   "cell_type": "code",
   "execution_count": null,
   "metadata": {
    "collapsed": false,
    "deletable": true,
    "editable": true
   },
   "outputs": [],
   "source": [
    "import math\n",
    "listaStart = []\n",
    "listaEnd = []\n",
    "for i in list(trainingShort.start_station_id.values):\n",
    "    if i not in listaStart:\n",
    "        listaStart.append(i)\n",
    "for i in list(trainingShort.end_station_id.values):\n",
    "    if i not in listaEnd:\n",
    "        listaEnd.append(i)\n",
    "listaHistorico = []\n",
    "for i in listaStart:\n",
    "    for j in listaEnd:\n",
    "        df = trainingShort[(trainingShort['start_station_id'] == i) & (trainingShort['end_station_id'] == j)]\n",
    "        historico = df.duration.mean()\n",
    "        if (not(math.isnan(historico))):\n",
    "            listaHistorico.append([i,j,historico])\n",
    "        \n",
    "listaHistorico\n"
   ]
  },
  {
   "cell_type": "code",
   "execution_count": null,
   "metadata": {
    "collapsed": false,
    "deletable": true,
    "editable": true
   },
   "outputs": [],
   "source": [
    "starStationId = []\n",
    "endStationId = []\n",
    "historical = []\n",
    "for x in listaHistorico:\n",
    "    starStationId.append(x[0])\n",
    "    endStationId.append(x[1])\n",
    "    historical.append(x[2])\n",
    "\n",
    "data = {\n",
    "    'start_station_id' : starStationId,\n",
    "    'end_station_id' : endStationId,\n",
    "    'historical' : historical,\n",
    "}\n",
    "\n",
    "dfData = pd.DataFrame(data,columns = ['start_station_id','end_station_id','historical'])\n",
    "dfData"
   ]
  },
  {
   "cell_type": "code",
   "execution_count": null,
   "metadata": {
    "collapsed": true,
    "deletable": true,
    "editable": true
   },
   "outputs": [],
   "source": [
    "trainingShort = pd.merge(trainingShort,dfData,on =['start_station_id','end_station_id'],how = 'inner')\n",
    "trainingShort = trainingShort [['id', 'historical']]\n",
    "trainingSet = pd.merge(trainingSet,trainingShort,on =['id'],how = 'inner')\n"
   ]
  },
  {
   "cell_type": "code",
   "execution_count": null,
   "metadata": {
    "collapsed": false,
    "deletable": true,
    "editable": true
   },
   "outputs": [],
   "source": [
    "trainingSet['historical'] = trainingSet.historical.astype(int)\n",
    "trainingSet"
   ]
  },
  {
   "cell_type": "markdown",
   "metadata": {
    "deletable": true,
    "editable": true
   },
   "source": [
    "## Agrego datos de TP1"
   ]
  },
  {
   "cell_type": "code",
   "execution_count": null,
   "metadata": {
    "collapsed": false,
    "deletable": true,
    "editable": true
   },
   "outputs": [],
   "source": [
    "trainingSet.loc [:,['id','duration','start_station_id', 'end_station_id','start_time', 'end_time','historical','distance' ]]"
   ]
  },
  {
   "cell_type": "code",
   "execution_count": null,
   "metadata": {
    "collapsed": true,
    "deletable": true,
    "editable": true
   },
   "outputs": [],
   "source": [
    " dfTrip = pd.read_csv('../CSVs/trip.csv')\n",
    "# dfTrip = dfTrip.loc[:,['id','duration']]\n",
    "# dfTrip = dfTrip.rename(columns={'duration':'durationPosta'})\n",
    "# dfScore = pd.merge(testingSet,dfTrip,on =['id'],how = 'inner')\n",
    "# dfScore"
   ]
  },
  {
   "cell_type": "code",
   "execution_count": null,
   "metadata": {
    "collapsed": false,
    "deletable": true,
    "editable": true
   },
   "outputs": [],
   "source": [
    "dfTrip.corr()['duration']"
   ]
  },
  {
   "cell_type": "code",
   "execution_count": null,
   "metadata": {
    "collapsed": false,
    "deletable": true,
    "editable": true
   },
   "outputs": [],
   "source": [
    "dfTrip.loc[dfTrip.id == 192809,:]"
   ]
  },
  {
   "cell_type": "code",
   "execution_count": null,
   "metadata": {
    "collapsed": false,
    "deletable": true,
    "editable": true
   },
   "outputs": [],
   "source": [
    "trainingSet"
   ]
  },
  {
   "cell_type": "code",
   "execution_count": null,
   "metadata": {
    "collapsed": false,
    "deletable": true,
    "editable": true
   },
   "outputs": [],
   "source": [
    "# GLORIOSO DF DEL TP1\n",
    "#(0 = Monday, 1 = Tuesday...)\n",
    "dfSF_Bay = pd.read_csv('../CSVs/dfSF_Bay.csv')\n",
    "dfSF_Bay"
   ]
  },
  {
   "cell_type": "code",
   "execution_count": null,
   "metadata": {
    "collapsed": false,
    "deletable": true,
    "editable": true
   },
   "outputs": [],
   "source": [
    "dfSF_Bay.corr()['viajes']"
   ]
  },
  {
   "cell_type": "code",
   "execution_count": null,
   "metadata": {
    "collapsed": false,
    "deletable": true,
    "editable": true
   },
   "outputs": [],
   "source": [
    "dfSF_Bay.loc[dfSF_Bay.month == 2,:].loc[dfSF_Bay.year == 2014,:].loc[dfSF_Bay.weekday == 5,:]"
   ]
  },
  {
   "cell_type": "code",
   "execution_count": null,
   "metadata": {
    "collapsed": false,
    "deletable": true,
    "editable": true
   },
   "outputs": [],
   "source": [
    "dfSF_Bay.dtypes"
   ]
  },
  {
   "cell_type": "code",
   "execution_count": null,
   "metadata": {
    "collapsed": true,
    "deletable": true,
    "editable": true
   },
   "outputs": [],
   "source": [
    "#Elijo las mejores variables en funcion del TP1\n",
    "dfSF_Bay = dfSF_Bay.loc [:,['viajes','max_temperature_c','min_temperature_c','max_humidity','max_sea_level_pressure_cm','precipitation_cm','Fog','Normal','Rain','business_day','holiday','year','month','weekday','date']]"
   ]
  },
  {
   "cell_type": "code",
   "execution_count": null,
   "metadata": {
    "collapsed": false,
    "deletable": true,
    "editable": true
   },
   "outputs": [],
   "source": [
    "dfSF_Bay.dtypes"
   ]
  },
  {
   "cell_type": "code",
   "execution_count": null,
   "metadata": {
    "collapsed": false,
    "deletable": true,
    "editable": true
   },
   "outputs": [],
   "source": [
    "trainingSet['year'] = pd.to_datetime(trainingSet['start_date']).dt.year\n",
    "trainingSet['month'] = pd.to_datetime(trainingSet['start_date']).dt.month\n",
    "trainingSet['weekday'] = pd.to_datetime(trainingSet['start_date']).dt.weekday\n",
    "trainingSet"
   ]
  },
  {
   "cell_type": "code",
   "execution_count": null,
   "metadata": {
    "collapsed": true,
    "deletable": true,
    "editable": true
   },
   "outputs": [],
   "source": [
    "trainingSet = pd.merge(trainingSet,dfSF_Bay,left_on ='start_date',right_on='date',how = 'inner')\n"
   ]
  },
  {
   "cell_type": "code",
   "execution_count": null,
   "metadata": {
    "collapsed": false,
    "deletable": true,
    "editable": true
   },
   "outputs": [],
   "source": [
    "trainingSet.dtypes"
   ]
  },
  {
   "cell_type": "code",
   "execution_count": null,
   "metadata": {
    "collapsed": true,
    "deletable": true,
    "editable": true
   },
   "outputs": [],
   "source": [
    "trainingSet.drop(['year_x','month_x','weekday_x'],1,inplace=True)\n"
   ]
  },
  {
   "cell_type": "code",
   "execution_count": null,
   "metadata": {
    "collapsed": true,
    "deletable": true,
    "editable": true
   },
   "outputs": [],
   "source": [
    "trainingSet.drop(['date'],1,inplace=True)\n"
   ]
  },
  {
   "cell_type": "code",
   "execution_count": null,
   "metadata": {
    "collapsed": true,
    "deletable": true,
    "editable": true
   },
   "outputs": [],
   "source": [
    "trainingSet = trainingSet.rename(columns={'year_y':'year','month_y':'month','weekday_y': 'weekday'})"
   ]
  },
  {
   "cell_type": "code",
   "execution_count": null,
   "metadata": {
    "collapsed": false,
    "deletable": true,
    "editable": true
   },
   "outputs": [],
   "source": [
    "trainingSet.dtypes"
   ]
  },
  {
   "cell_type": "markdown",
   "metadata": {
    "deletable": true,
    "editable": true
   },
   "source": [
    "## Save processed data"
   ]
  },
  {
   "cell_type": "code",
   "execution_count": null,
   "metadata": {
    "collapsed": true,
    "deletable": true,
    "editable": true
   },
   "outputs": [],
   "source": [
    "trainingSet.to_csv('../CSVs/improved_trip_train.csv', index=False)"
   ]
  },
  {
   "cell_type": "code",
   "execution_count": null,
   "metadata": {
    "collapsed": true,
    "deletable": true,
    "editable": true
   },
   "outputs": [],
   "source": [
    "testingSet.to_csv('../CSVs/improved_trip_test.csv', index=False)"
   ]
  },
  {
   "cell_type": "markdown",
   "metadata": {
    "deletable": true,
    "editable": true
   },
   "source": [
    "# //////////////////////////////////////////////////////////////////////////////"
   ]
  },
  {
   "cell_type": "markdown",
   "metadata": {
    "deletable": true,
    "editable": true
   },
   "source": [
    "# //////////////////////////////////////////////////////////////////////////////"
   ]
  },
  {
   "cell_type": "markdown",
   "metadata": {
    "deletable": true,
    "editable": true
   },
   "source": [
    "# //////////////////////////////////////////////////////////////////////////////"
   ]
  },
  {
   "cell_type": "markdown",
   "metadata": {
    "deletable": true,
    "editable": true
   },
   "source": [
    "# Discretizacion y Normalizacion"
   ]
  },
  {
   "cell_type": "markdown",
   "metadata": {
    "deletable": true,
    "editable": true
   },
   "source": [
    "## Discretizacion"
   ]
  },
  {
   "cell_type": "code",
   "execution_count": null,
   "metadata": {
    "collapsed": false,
    "deletable": true,
    "editable": true
   },
   "outputs": [],
   "source": [
    "trainingSet = pd.read_csv('../CSVs/improved_trip_train.csv')\n",
    "testingSet = pd.read_csv('../CSVs/improved_trip_test.csv')"
   ]
  },
  {
   "cell_type": "code",
   "execution_count": null,
   "metadata": {
    "collapsed": false,
    "deletable": true,
    "editable": true
   },
   "outputs": [],
   "source": [
    "trainingSet.columns.values"
   ]
  },
  {
   "cell_type": "code",
   "execution_count": null,
   "metadata": {
    "collapsed": true,
    "deletable": true,
    "editable": true
   },
   "outputs": [],
   "source": [
    "def crearLista (listadoCompleto):\n",
    "    listaReducida = []\n",
    "    for i in listadoCompleto:\n",
    "        if i not in listaReducida:\n",
    "            listaReducida.append(i)\n",
    "    listaReducida.sort()\n",
    "    return listaReducida"
   ]
  },
  {
   "cell_type": "code",
   "execution_count": null,
   "metadata": {
    "collapsed": true,
    "deletable": true,
    "editable": true
   },
   "outputs": [],
   "source": [
    "def discretizar(columna,listaReducida,nombre):\n",
    "    v = list(range(len(columna)))\n",
    "    listaCompleta = list(columna)\n",
    "    for i in listaReducida:\n",
    "        for j in range(len(listaCompleta)):\n",
    "            if(listaCompleta[j] == i):\n",
    "                v[j] = 1\n",
    "            else:\n",
    "                v[j] = 0\n",
    "        trainingSet[nombre+str(i)] = v"
   ]
  },
  {
   "cell_type": "code",
   "execution_count": null,
   "metadata": {
    "collapsed": true,
    "deletable": true,
    "editable": true
   },
   "outputs": [],
   "source": [
    "listaStartName = crearLista(trainingSet.start_station_name)\n",
    "listaEndName = crearLista(trainingSet.end_station_name)"
   ]
  },
  {
   "cell_type": "code",
   "execution_count": null,
   "metadata": {
    "collapsed": false,
    "deletable": true,
    "editable": true
   },
   "outputs": [],
   "source": [
    "discretizar(trainingSet.start_station_name,listaStartName,'start ')"
   ]
  },
  {
   "cell_type": "code",
   "execution_count": null,
   "metadata": {
    "collapsed": false,
    "deletable": true,
    "editable": true
   },
   "outputs": [],
   "source": [
    "trainingSet"
   ]
  },
  {
   "cell_type": "code",
   "execution_count": null,
   "metadata": {
    "collapsed": false,
    "deletable": true,
    "editable": true
   },
   "outputs": [],
   "source": [
    "trainingSet.loc[:,['start_station_name','start Harry Bridges Plaza (Ferry Building)']]"
   ]
  },
  {
   "cell_type": "code",
   "execution_count": null,
   "metadata": {
    "collapsed": true,
    "deletable": true,
    "editable": true
   },
   "outputs": [],
   "source": [
    "discretizar(trainingSet.end_station_name,listaEndName,'end ')"
   ]
  },
  {
   "cell_type": "code",
   "execution_count": null,
   "metadata": {
    "collapsed": true
   },
   "outputs": [],
   "source": [
    "listaStartWeekDay = crearLista(trainingSet.start_dayOfWeek)"
   ]
  },
  {
   "cell_type": "code",
   "execution_count": null,
   "metadata": {
    "collapsed": false,
    "deletable": true,
    "editable": true
   },
   "outputs": [],
   "source": [
    "discretizar(trainingSet.start_dayOfWeek,listaStartWeekDay,'start_dayOfWeek_id')"
   ]
  },
  {
   "cell_type": "code",
   "execution_count": null,
   "metadata": {
    "collapsed": true
   },
   "outputs": [],
   "source": [
    "listaEndWeekDay = crearLista(trainingSet.end_dayOfWeek)"
   ]
  },
  {
   "cell_type": "code",
   "execution_count": null,
   "metadata": {
    "collapsed": true
   },
   "outputs": [],
   "source": [
    "discretizar(trainingSet.end_dayOfWeek,listaEndWeekDay,'end_dayOfWeek_id')"
   ]
  },
  {
   "cell_type": "code",
   "execution_count": null,
   "metadata": {
    "collapsed": false
   },
   "outputs": [],
   "source": [
    "trainingSet.loc[:,['end_dayOfWeek_id3','end_dayOfWeek']]"
   ]
  },
  {
   "cell_type": "code",
   "execution_count": null,
   "metadata": {
    "collapsed": false,
    "deletable": true,
    "editable": true
   },
   "outputs": [],
   "source": [
    "listaSubscriptionType = crearLista(trainingSet.subscription_type)"
   ]
  },
  {
   "cell_type": "code",
   "execution_count": null,
   "metadata": {
    "collapsed": false,
    "deletable": true,
    "editable": true
   },
   "outputs": [],
   "source": [
    "discretizar(trainingSet.subscription_type,listaSubscriptionType,'subscription_type_')"
   ]
  },
  {
   "cell_type": "code",
   "execution_count": null,
   "metadata": {
    "collapsed": false,
    "deletable": true,
    "editable": true
   },
   "outputs": [],
   "source": [
    "trainingSet"
   ]
  },
  {
   "cell_type": "code",
   "execution_count": null,
   "metadata": {
    "collapsed": false,
    "deletable": true,
    "editable": true
   },
   "outputs": [],
   "source": [
    "trainingSet[trainingSet.zip_code.str.isnumeric() == False].loc[:,['zip_code']]"
   ]
  },
  {
   "cell_type": "code",
   "execution_count": null,
   "metadata": {
    "collapsed": true,
    "deletable": true,
    "editable": true
   },
   "outputs": [],
   "source": [
    "listaStartYear = crearLista(trainingSet.start_year)"
   ]
  },
  {
   "cell_type": "code",
   "execution_count": null,
   "metadata": {
    "collapsed": false,
    "deletable": true,
    "editable": true
   },
   "outputs": [],
   "source": [
    "discretizar(trainingSet.start_year,listaStartYear,'start_year_')"
   ]
  },
  {
   "cell_type": "code",
   "execution_count": null,
   "metadata": {
    "collapsed": true,
    "deletable": true,
    "editable": true
   },
   "outputs": [],
   "source": [
    "listaEndYear = crearLista(trainingSet.end_year)"
   ]
  },
  {
   "cell_type": "code",
   "execution_count": null,
   "metadata": {
    "collapsed": true,
    "deletable": true,
    "editable": true
   },
   "outputs": [],
   "source": [
    "discretizar(trainingSet.end_year,listaEndYear,'end_year_')"
   ]
  },
  {
   "cell_type": "code",
   "execution_count": null,
   "metadata": {
    "collapsed": true,
    "deletable": true,
    "editable": true
   },
   "outputs": [],
   "source": [
    "listaStartMonth = crearLista(trainingSet.start_month)"
   ]
  },
  {
   "cell_type": "code",
   "execution_count": null,
   "metadata": {
    "collapsed": true,
    "deletable": true,
    "editable": true
   },
   "outputs": [],
   "source": [
    "discretizar(trainingSet.start_month,listaStartMonth,'start_month_')"
   ]
  },
  {
   "cell_type": "code",
   "execution_count": null,
   "metadata": {
    "collapsed": true,
    "deletable": true,
    "editable": true
   },
   "outputs": [],
   "source": [
    "listaEndMonth = crearLista(trainingSet.end_month)"
   ]
  },
  {
   "cell_type": "code",
   "execution_count": null,
   "metadata": {
    "collapsed": true,
    "deletable": true,
    "editable": true
   },
   "outputs": [],
   "source": [
    "discretizar(trainingSet.end_month,listaEndMonth,'end_month_')"
   ]
  },
  {
   "cell_type": "code",
   "execution_count": null,
   "metadata": {
    "collapsed": true,
    "deletable": true,
    "editable": true
   },
   "outputs": [],
   "source": [
    "listaStartDay = crearLista(trainingSet.start_day)"
   ]
  },
  {
   "cell_type": "code",
   "execution_count": null,
   "metadata": {
    "collapsed": true,
    "deletable": true,
    "editable": true
   },
   "outputs": [],
   "source": [
    "discretizar(trainingSet.start_day,listaStartDay,'start_day_')"
   ]
  },
  {
   "cell_type": "code",
   "execution_count": null,
   "metadata": {
    "collapsed": true,
    "deletable": true,
    "editable": true
   },
   "outputs": [],
   "source": [
    "listaEndDay = crearLista(trainingSet.end_day)"
   ]
  },
  {
   "cell_type": "code",
   "execution_count": null,
   "metadata": {
    "collapsed": true,
    "deletable": true,
    "editable": true
   },
   "outputs": [],
   "source": [
    "discretizar(trainingSet.end_day,listaEndDay,'end_day_')"
   ]
  },
  {
   "cell_type": "code",
   "execution_count": null,
   "metadata": {
    "collapsed": true
   },
   "outputs": [],
   "source": [
    "listaStartQuarter = crearLista(trainingSet.start_quarter)"
   ]
  },
  {
   "cell_type": "code",
   "execution_count": null,
   "metadata": {
    "collapsed": true
   },
   "outputs": [],
   "source": [
    "discretizar(trainingSet.start_quarter,listaStartQuarter,'start_quarter_')"
   ]
  },
  {
   "cell_type": "code",
   "execution_count": null,
   "metadata": {
    "collapsed": false
   },
   "outputs": [],
   "source": [
    "listaEndQuarter = crearLista(trainingSet.end_quarter)"
   ]
  },
  {
   "cell_type": "code",
   "execution_count": null,
   "metadata": {
    "collapsed": true
   },
   "outputs": [],
   "source": [
    "discretizar(trainingSet.end_quarter,listaEndQuarter,'end_quarter_')"
   ]
  },
  {
   "cell_type": "code",
   "execution_count": null,
   "metadata": {
    "collapsed": true
   },
   "outputs": [],
   "source": [
    "listaStartHour = crearLista(trainingSet.start_hour)"
   ]
  },
  {
   "cell_type": "code",
   "execution_count": null,
   "metadata": {
    "collapsed": true
   },
   "outputs": [],
   "source": [
    "discretizar(trainingSet.start_hour,listaStartHour,'start_hour_')"
   ]
  },
  {
   "cell_type": "code",
   "execution_count": null,
   "metadata": {
    "collapsed": true
   },
   "outputs": [],
   "source": [
    "listaEndHour = crearLista(trainingSet.end_hour)"
   ]
  },
  {
   "cell_type": "code",
   "execution_count": null,
   "metadata": {
    "collapsed": true
   },
   "outputs": [],
   "source": [
    "discretizar(trainingSet.end_hour,listaEndHour,'end_hour')"
   ]
  },
  {
   "cell_type": "code",
   "execution_count": null,
   "metadata": {
    "collapsed": false,
    "deletable": true,
    "editable": true
   },
   "outputs": [],
   "source": [
    "trainingSet"
   ]
  },
  {
   "cell_type": "code",
   "execution_count": null,
   "metadata": {
    "collapsed": false,
    "deletable": true,
    "editable": true
   },
   "outputs": [],
   "source": [
    "trainingSet.columns.values"
   ]
  },
  {
   "cell_type": "code",
   "execution_count": null,
   "metadata": {
    "collapsed": false
   },
   "outputs": [],
   "source": [
    "#A veces tarda a veces no\n",
    "trainingSet = trainingSet.drop(labels = ['start_date','start_dayOfWeek','start_quarter','start_time','start_station_name','end_date',\n",
    "                        'end_dayOfWeek','end_quarter','end_time','end_station_name','subscription_type','year','month',\n",
    "                         'weekday','start_hour','end_hour'],axis = 1)"
   ]
  },
  {
   "cell_type": "code",
   "execution_count": null,
   "metadata": {
    "collapsed": false
   },
   "outputs": [],
   "source": [
    "trainingSet.columns.values"
   ]
  },
  {
   "cell_type": "markdown",
   "metadata": {
    "deletable": true,
    "editable": true
   },
   "source": [
    "## Save processed data"
   ]
  },
  {
   "cell_type": "code",
   "execution_count": null,
   "metadata": {
    "collapsed": true,
    "deletable": true,
    "editable": true
   },
   "outputs": [],
   "source": [
    "trainingSet.to_csv('../CSVs/improved_trip_train.csv', index=False)"
   ]
  },
  {
   "cell_type": "markdown",
   "metadata": {
    "collapsed": false,
    "deletable": true,
    "editable": true
   },
   "source": [
    "## Normalizacion"
   ]
  },
  {
   "cell_type": "code",
   "execution_count": null,
   "metadata": {
    "collapsed": false,
    "deletable": true,
    "editable": true
   },
   "outputs": [],
   "source": [
    "listaStartDay.sort()\n",
    "listaStartDay"
   ]
  },
  {
   "cell_type": "code",
   "execution_count": null,
   "metadata": {
    "collapsed": false,
    "deletable": true,
    "editable": true
   },
   "outputs": [],
   "source": [
    "durationNormalize = preprocessing.normalize(trainingSet.duration)\n",
    "trainingSet['duration'] = durationNormalize[0]\n",
    "maxTemperatureNormalize = preprocessing.normalize(trainingSet.max_temperature_c)\n",
    "trainingSet['max_temperature_c'] = maxTemperatureNormalize[0]\n",
    "minTemperatureNormalize= preprocessing.normalize(trainingSet.min_temperature_c)\n",
    "trainingSet['min_temperature_c'] = minTemperatureNormalize[0]\n",
    "maxHumidityNormalize = preprocessing.normalize(trainingSet.max_humidity)\n",
    "trainingSet['max_humidity'] = maxHumidityNormalize[0]\n",
    "maxSeaLevelPressureNormalize = preprocessing.normalize(trainingSet.max_sea_level_pressure_cm)\n",
    "trainingSet['max_sea_level_pressure_cm'] = maxSeaLevelPressureNormalize[0]\n",
    "precipitationNormalize = preprocessing.normalize(trainingSet.precipitation_cm)\n",
    "trainingSet['precipitation_cm'] = precipitationNormalize[0]"
   ]
  },
  {
   "cell_type": "code",
   "execution_count": null,
   "metadata": {
    "collapsed": false,
    "deletable": true,
    "editable": true
   },
   "outputs": [],
   "source": [
    "trainingSet.loc[:,['duration','max_temperature_c','min_temperature_c','max_humidity','max_sea_level_pressure_cm','precipitation_cm']]"
   ]
  }
 ],
 "metadata": {
  "kernelspec": {
   "display_name": "Python 2",
   "language": "python",
   "name": "python2"
  },
  "language_info": {
   "codemirror_mode": {
    "name": "ipython",
    "version": 2
   },
   "file_extension": ".py",
   "mimetype": "text/x-python",
   "name": "python",
   "nbconvert_exporter": "python",
   "pygments_lexer": "ipython2",
   "version": "2.7.12"
  }
 },
 "nbformat": 4,
 "nbformat_minor": 2
}
