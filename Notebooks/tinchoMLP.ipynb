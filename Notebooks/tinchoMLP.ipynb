{
 "cells": [
  {
   "cell_type": "code",
   "execution_count": null,
   "metadata": {
    "collapsed": true,
    "deletable": true,
    "editable": true
   },
   "outputs": [],
   "source": [
    "print \"starting importing\"\n",
    "import pandas as pd\n",
    "import numpy as np\n",
    "import math\n",
    "import matplotlib.pyplot as plt\n",
    "# import ML packages\n",
    "from sklearn.cluster import KMeans\n",
    "from sklearn.datasets import make_blobs\n",
    "from sklearn.metrics import mean_squared_error\n",
    "from sklearn.ensemble import RandomForestRegressor, GradientBoostingRegressor, AdaBoostRegressor\n",
    "from sklearn.model_selection import cross_val_score, train_test_split\n",
    "from sklearn import linear_model\n",
    "from sklearn import preprocessing\n",
    "from sklearn import metrics\n",
    "from sklearn import neural_network"
   ]
  },
  {
   "cell_type": "code",
   "execution_count": null,
   "metadata": {
    "collapsed": true,
    "deletable": true,
    "editable": true
   },
   "outputs": [],
   "source": [
    "print \"finished importing\"\n",
    "print \"start csv loading\"\n",
    "\n",
    "# CSV Loading\n",
    "trainingSet = pd.read_csv('../CSVs/finalTraining.csv')\n",
    "print \"final trip train csv loaded.\"\n",
    "testingSet = pd.read_csv('../CSVs/finalTesting.csv')\n",
    "print \"final trip test csv loaded\"\n",
    "\n",
    "print \"finished csv loading\""
   ]
  },
  {
   "cell_type": "code",
   "execution_count": null,
   "metadata": {
    "collapsed": true,
    "deletable": true,
    "editable": true
   },
   "outputs": [],
   "source": [
    "trainingSet = trainingSet.loc[trainingSet.duration < 1000000,:]\n",
    "print (\"Training set filtrado\")\n"
   ]
  },
  {
   "cell_type": "code",
   "execution_count": null,
   "metadata": {
    "collapsed": true,
    "deletable": true,
    "editable": true
   },
   "outputs": [],
   "source": [
    "print(\"creating features\")\n",
    "X = trainingSet [['start_station_id',\n",
    "       'end_station_id', 'distance', 'business_day', 'holiday', \n",
    "       'start_dayOfWeek_id0', 'start_dayOfWeek_id1', 'start_dayOfWeek_id2',\n",
    "       'start_dayOfWeek_id3', 'start_dayOfWeek_id4', 'start_dayOfWeek_id5',\n",
    "       'start_dayOfWeek_id6', 'subscription_type_Customer',\n",
    "       'subscription_type_Subscriber', 'start_year_2013',\n",
    "       'start_year_2014', 'start_year_2015', 'start_month_1',\n",
    "       'start_month_2', 'start_month_3', 'start_month_4', 'start_month_5',\n",
    "       'start_month_6', 'start_month_7', 'start_month_8', 'start_month_9',\n",
    "       'start_month_10', 'start_month_11', 'start_month_12',\n",
    "       'start_quarter_1', 'start_quarter_2', 'start_quarter_3',\n",
    "       'start_quarter_4', 'start_hour_0', 'start_hour_1', 'start_hour_2',\n",
    "       'start_hour_3', 'start_hour_4', 'start_hour_5', 'start_hour_6',\n",
    "       'start_hour_7', 'start_hour_8', 'start_hour_9', 'start_hour_10',\n",
    "       'start_hour_11', 'start_hour_12', 'start_hour_13', 'start_hour_14',\n",
    "       'start_hour_15', 'start_hour_16', 'start_hour_17', 'start_hour_18',\n",
    "       'start_hour_19', 'start_hour_20', 'start_hour_21', 'start_hour_22',\n",
    "       'start_hour_23']]\n",
    "\n",
    "\n",
    "y = trainingSet.duration\n",
    "\n",
    "X_train, X_test, y_train, y_test = train_test_split(X, y, test_size=0.3, random_state = 3)"
   ]
  },
  {
   "cell_type": "code",
   "execution_count": null,
   "metadata": {
    "collapsed": true,
    "deletable": true,
    "editable": true
   },
   "outputs": [],
   "source": [
    "from sklearn.neural_network import MLPRegressor\n",
    "\n",
    "print ('fitting')\n",
    "\n",
    "clf = MLPRegressor(solver='lbfgs', alpha=1e-5, hidden_layer_sizes=(5, 2), random_state=1)\n",
    "\n",
    "clf.fit(X, y)"
   ]
  },
  {
   "cell_type": "code",
   "execution_count": null,
   "metadata": {
    "collapsed": true,
    "deletable": true,
    "editable": true
   },
   "outputs": [],
   "source": [
    "print('probando modelo')\n",
    "prediction = clf.predict(X_test)\n",
    "print (\"Prediction:\" ,prediction)\n",
    "print (\"Error cuadratico medio: %.2f \" % np.mean((prediction - y_test)**2))"
   ]
  },
  {
   "cell_type": "code",
   "execution_count": null,
   "metadata": {
    "collapsed": true,
    "deletable": true,
    "editable": true
   },
   "outputs": [],
   "source": [
    "test = testingSet[['start_station_id',\n",
    "       'end_station_id', 'distance', 'business_day', 'holiday',\n",
    "       'start_dayOfWeek_id0', 'start_dayOfWeek_id1', 'start_dayOfWeek_id2',\n",
    "       'start_dayOfWeek_id3', 'start_dayOfWeek_id4', 'start_dayOfWeek_id5',\n",
    "       'start_dayOfWeek_id6', 'subscription_type_Customer',\n",
    "       'subscription_type_Subscriber', 'start_year_2013',\n",
    "       'start_year_2014', 'start_year_2015', 'start_month_1',\n",
    "       'start_month_2', 'start_month_3', 'start_month_4', 'start_month_5',\n",
    "       'start_month_6', 'start_month_7', 'start_month_8', 'start_month_9',\n",
    "       'start_month_10', 'start_month_11', 'start_month_12',\n",
    "       'start_quarter_1', 'start_quarter_2', 'start_quarter_3',\n",
    "       'start_quarter_4', 'start_hour_0', 'start_hour_1', 'start_hour_2',\n",
    "       'start_hour_3', 'start_hour_4', 'start_hour_5', 'start_hour_6',\n",
    "       'start_hour_7', 'start_hour_8', 'start_hour_9', 'start_hour_10',\n",
    "       'start_hour_11', 'start_hour_12', 'start_hour_13', 'start_hour_14',\n",
    "       'start_hour_15', 'start_hour_16', 'start_hour_17', 'start_hour_18',\n",
    "       'start_hour_19', 'start_hour_20', 'start_hour_21', 'start_hour_22',\n",
    "       'start_hour_23']]"
   ]
  },
  {
   "cell_type": "code",
   "execution_count": null,
   "metadata": {
    "collapsed": true,
    "deletable": true,
    "editable": true
   },
   "outputs": [],
   "source": [
    "print('predection time')\n",
    "prediction = clf.predict(test)\n",
    "print (\"Prediction:\" ,prediction)\n",
    "print ('creando data frame')\n",
    "test['prediction'] = prediction\n",
    "test['id'] = testingSet['id']\n",
    "test = test[['id','prediction']]\n",
    "print (\"Guardando data Frame\")\n",
    "test.to_csv('../CSVs/RFprediction.csv')"
   ]
  }
 ],
 "metadata": {
  "kernelspec": {
   "display_name": "Python 2",
   "language": "python",
   "name": "python2"
  },
  "language_info": {
   "codemirror_mode": {
    "name": "ipython",
    "version": 2
   },
   "file_extension": ".py",
   "mimetype": "text/x-python",
   "name": "python",
   "nbconvert_exporter": "python",
   "pygments_lexer": "ipython2",
   "version": "2.7.12"
  }
 },
 "nbformat": 4,
 "nbformat_minor": 2
}
