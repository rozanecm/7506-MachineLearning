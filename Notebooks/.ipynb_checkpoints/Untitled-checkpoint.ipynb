{
 "cells": [
  {
   "cell_type": "code",
   "execution_count": 1,
   "metadata": {
    "collapsed": true
   },
   "outputs": [],
   "source": [
    "import pandas as pd\n",
    "from datetime import datetime\n",
    "import scipy.spatial"
   ]
  },
  {
   "cell_type": "code",
   "execution_count": 5,
   "metadata": {
    "collapsed": true
   },
   "outputs": [],
   "source": [
    "stationDF = pd.read_csv('../CSVs/station.csv')"
   ]
  },
  {
   "cell_type": "code",
   "execution_count": 8,
   "metadata": {
    "collapsed": true
   },
   "outputs": [],
   "source": [
    "distancesDF = pd.DataFrame(columns=[\"start_station_id\", \"end_station_id\", \"distance\"])\n",
    "\n",
    "for station, lat, lon in zip(stationDF.id, stationDF.lat, stationDF.long):\n",
    "    for station2, lat2, lon2 in zip(stationDF.id, stationDF.lat, stationDF.long):\n",
    "        distancesDF = distancesDF.append({\n",
    "            \"start_station_id\": station,\n",
    "            \"end_station_id\": station2,\n",
    "            \"distance\": scipy.spatial.distance.cityblock([lat, lon], [lat2, lon2])\n",
    "        }, ignore_index=True)\n",
    "        \n",
    "distancesDF['start_station_id'] = distancesDF.start_station_id.astype(int)\n",
    "distancesDF['end_station_id'] = distancesDF.end_station_id.astype(int)"
   ]
  },
  {
   "cell_type": "code",
   "execution_count": null,
   "metadata": {
    "collapsed": true
   },
   "outputs": [],
   "source": [
    "trainingSet = pd.read_csv('../CSVs/trip_train.csv')\n",
    "testingSet = pd.read_csv('../CSVs/trip_test.csv')"
   ]
  },
  {
   "cell_type": "code",
   "execution_count": null,
   "metadata": {
    "collapsed": true
   },
   "outputs": [],
   "source": [
    "def preprocess(dataframe):\n",
    "    dataframe['start_date'] = pd.to_datetime(dataframe.start_date)\n",
    "    dataframe['end_date'] = pd.to_datetime(dataframe.end_date)\n",
    "    \n",
    "    dataframe['start_dayOfWeek'] = dataframe.start_date.dt.dayofweek\n",
    "    dataframe['start_week'] = dataframe.start_date.dt.week\n",
    "    dataframe['start_quarter'] = dataframe.start_date.dt.quarter\n",
    "    dataframe['start_time'] = dataframe.start_date.dt.time\n",
    "    dataframe['start_hour'] = dataframe.start_date.dt.hour\n",
    "    dataframe['start_minute'] = dataframe.start_date.dt.minute\n",
    "    dataframe['start_date'] = dataframe.start_date.dt.date\n",
    "\n",
    "    dataframe['end_dayOfWeek'] = dataframe.end_date.dt.dayofweek\n",
    "    dataframe['end_week'] = dataframe.end_date.dt.week\n",
    "    dataframe['end_quarter'] = dataframe.end_date.dt.quarter\n",
    "    dataframe['end_time'] = dataframe.end_date.dt.time\n",
    "    dataframe['end_hour'] = dataframe.end_date.dt.hour\n",
    "    dataframe['end_minute'] = dataframe.end_date.dt.minute\n",
    "    dataframe['end_date'] = dataframe.end_date.dt.date"
   ]
  },
  {
   "cell_type": "code",
   "execution_count": null,
   "metadata": {
    "collapsed": true
   },
   "outputs": [],
   "source": [
    "train = preprocess(trainingSet)\n",
    "test = preprocess(testingSet)"
   ]
  }
 ],
 "metadata": {
  "kernelspec": {
   "display_name": "Python 2",
   "language": "python",
   "name": "python2"
  },
  "language_info": {
   "codemirror_mode": {
    "name": "ipython",
    "version": 2
   },
   "file_extension": ".py",
   "mimetype": "text/x-python",
   "name": "python",
   "nbconvert_exporter": "python",
   "pygments_lexer": "ipython2",
   "version": "2.7.13"
  }
 },
 "nbformat": 4,
 "nbformat_minor": 2
}
