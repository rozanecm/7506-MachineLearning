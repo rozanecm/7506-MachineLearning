{
 "cells": [
  {
   "cell_type": "markdown",
   "metadata": {},
   "source": [
    "# TP2: Machine Learning"
   ]
  },
  {
   "cell_type": "code",
   "execution_count": null,
   "metadata": {
    "collapsed": true
   },
   "outputs": [],
   "source": [
    "import pandas as pd\n",
    "import numpy as np\n",
    "import math\n",
    "import matplotlib.pyplot as plt\n",
    "# import ML packages\n",
    "from sklearn.cluster import KMeans\n",
    "from sklearn.datasets import make_blobs\n",
    "from sklearn import linear_model\n",
    "from sklearn import preprocessing\n",
    "\n",
    "# import Plotting pckgs\n",
    "from matplotlib import pyplot as plt\n",
    "%matplotlib inline"
   ]
  },
  {
   "cell_type": "code",
   "execution_count": null,
   "metadata": {},
   "outputs": [],
   "source": [
    "trainingSet = pd.read_csv('../CSVs/improved_trip_train.csv')\n",
    "testingSet = pd.read_csv('../CSVs/improved_trip_test.csv')\n",
    "testingOriginal = pd.read_csv('../CSVs/trip_test.csv')\n",
    "\n",
    "trainingSet.dtypes"
   ]
  },
  {
   "cell_type": "code",
   "execution_count": null,
   "metadata": {},
   "outputs": [],
   "source": [
    "trainingSet"
   ]
  },
  {
   "cell_type": "code",
   "execution_count": null,
   "metadata": {},
   "outputs": [],
   "source": [
    "testingOriginal.dtypes"
   ]
  },
  {
   "cell_type": "markdown",
   "metadata": {},
   "source": [
    "## Aca hize un df del tipo test para comparar el resultado pero creo que es preferible dividir el set original de training en, train y test, al final de todo usamos este y listo."
   ]
  },
  {
   "cell_type": "code",
   "execution_count": null,
   "metadata": {
    "collapsed": true
   },
   "outputs": [],
   "source": [
    "# dfTrip = pd.read_csv('../CSVs/trip.csv')\n",
    "# dfTrip = dfTrip.loc[:,['id','duration']]\n",
    "# dfTrip = dfTrip.rename(columns={'duration':'durationPosta'})\n",
    "# dfScore = pd.merge(testingSet,dfTrip,on =['id'],how = 'inner')\n",
    "# dfScore"
   ]
  },
  {
   "cell_type": "code",
   "execution_count": null,
   "metadata": {},
   "outputs": [],
   "source": [
    "trainingSet.head()"
   ]
  },
  {
   "cell_type": "code",
   "execution_count": null,
   "metadata": {},
   "outputs": [],
   "source": [
    "trainingSet.shape"
   ]
  },
  {
   "cell_type": "code",
   "execution_count": null,
   "metadata": {},
   "outputs": [],
   "source": [
    "testingSet.head()"
   ]
  },
  {
   "cell_type": "code",
   "execution_count": null,
   "metadata": {},
   "outputs": [],
   "source": [
    "trainingSet.duration.mean()"
   ]
  },
  {
   "cell_type": "markdown",
   "metadata": {},
   "source": [
    "### Let's study correlation between data"
   ]
  },
  {
   "cell_type": "code",
   "execution_count": null,
   "metadata": {},
   "outputs": [],
   "source": [
    "trainingSet.corr()['duration']\n"
   ]
  },
  {
   "cell_type": "markdown",
   "metadata": {},
   "source": [
    "We can see that the duration is most correlated with:\n",
    "    - start_dayOfWeek     0.018351\n",
    "    - end_dayOfWeek       0.013753\n",
    "    - end_hour            0.009626\n",
    "    - start_station_id   -0.007001\n",
    "    - weekday                      0.018351\n",
    "    - distance                     0.004053\n",
    "    - min_temperature_c            0.002477\n",
    "    - max_humidity                 0.001039\n",
    "    - historical                   0.120417\n",
    "    - distance                     0.004053\n",
    "    "
   ]
  },
  {
   "cell_type": "code",
   "execution_count": null,
   "metadata": {},
   "outputs": [],
   "source": [
    "columns = trainingSet.columns.tolist()\n",
    "columns"
   ]
  },
  {
   "cell_type": "code",
   "execution_count": null,
   "metadata": {},
   "outputs": [],
   "source": [
    "trainingSet.dtypes"
   ]
  },
  {
   "cell_type": "code",
   "execution_count": null,
   "metadata": {
    "collapsed": true
   },
   "outputs": [],
   "source": [
    "# Create linear regression object\n",
    "regr = linear_model.LinearRegression()"
   ]
  },
  {
   "cell_type": "code",
   "execution_count": null,
   "metadata": {},
   "outputs": [],
   "source": [
    "trainingSet.shape"
   ]
  },
  {
   "cell_type": "markdown",
   "metadata": {},
   "source": [
    "### tengo 549961 filas, voy a dividir en un 70 train y 30 test (%)\n",
    "### 70 % = 384973"
   ]
  },
  {
   "cell_type": "code",
   "execution_count": null,
   "metadata": {
    "collapsed": true
   },
   "outputs": [],
   "source": [
    "features_train = trainingSet[['start_dayOfWeek', 'end_dayOfWeek','end_hour ', 'weekday', 'distance', 'min_temperature_c', 'max_humidity'        , 'historical', 'distance'                    \n",
    "    \n",
    "\n",
    "#['start_dayOfWeek','start_minute','end_dayOfWeek', \\\n",
    "# 'end_week', 'end_quarter','end_hour','distance','historical']\n",
    "feature_target = trainingSet.duration\n",
    "duration_X_train = features_train[:384973]\n",
    "duration_X_test = features_train[384973:]\n",
    "\n",
    "duration_Y_train = feature_target[:384973]\n",
    "duration_Y_test = feature_target[384973:]\n",
    "\n"
   ]
  },
  {
   "cell_type": "code",
   "execution_count": null,
   "metadata": {},
   "outputs": [],
   "source": [
    "# Train the model using the training sets\n",
    "regr.fit(duration_X_train, duration_Y_train)"
   ]
  },
  {
   "cell_type": "code",
   "execution_count": null,
   "metadata": {},
   "outputs": [],
   "source": [
    "prediction = regr.predict(duration_X_test)\n",
    "prediction"
   ]
  },
  {
   "cell_type": "code",
   "execution_count": null,
   "metadata": {},
   "outputs": [],
   "source": [
    "print (\"Error cuadratico medio: %.2f \" % np.mean((prediction - duration_Y_test)**2))"
   ]
  },
  {
   "cell_type": "code",
   "execution_count": null,
   "metadata": {},
   "outputs": [],
   "source": [
    "print('Variance score: %.2f' % regr.score(duration_X_test, duration_Y_test))\n"
   ]
  },
  {
   "cell_type": "code",
   "execution_count": null,
   "metadata": {},
   "outputs": [],
   "source": [
    "print('Coefficients: \\n', regr.coef_)"
   ]
  },
  {
   "cell_type": "code",
   "execution_count": null,
   "metadata": {},
   "outputs": [],
   "source": [
    "plt.plot(duration_X_test, duration_Y_test,  color='black')\n",
    "plt.plot(duration_X_test, prediction, color='blue',\n",
    "         linewidth=3)\n",
    "plt.xticks(())\n",
    "plt.yticks(())\n",
    "\n",
    "plt.show()"
   ]
  },
  {
   "cell_type": "markdown",
   "metadata": {},
   "source": [
    "# BENCHMARK\n",
    "## LINEAR_1 : Error cuadratico medio: 37603347.84, Variance score: -0.03\n",
    "## LINEAR_2 : Error cuadratico medio:1831849122.75, Variance score: 0.02( con historical )\n",
    "## LINEAR_3: IGUAL AL 2 ( con distance + anteriores )   \n",
    "## RIDGE: IGUAL AL 2 (con todos los parametros)\n",
    "\n"
   ]
  },
  {
   "cell_type": "code",
   "execution_count": null,
   "metadata": {
    "collapsed": true
   },
   "outputs": [],
   "source": [
    "features_train = trainingSet[['start_dayOfWeek', 'end_dayOfWeek', 'end_hour', 'start_station_id','historical']]\n",
    "feature_target = trainingSet.duration\n",
    "duration_X_train = features_train[:384973]\n",
    "duration_X_test = features_train[384973:]\n",
    "\n",
    "duration_Y_train = feature_target[:384973]\n",
    "duration_Y_test = feature_target[384973:]\n"
   ]
  },
  {
   "cell_type": "code",
   "execution_count": null,
   "metadata": {},
   "outputs": [],
   "source": [
    "regr.fit(duration_X_train, duration_Y_train)\n",
    "prediction = regr.predict(duration_X_test)\n",
    "print (\"Error cuadratico medio: %.2f \" % np.mean((prediction - duration_Y_test)**2))\n",
    "print('Variance score: %.2f' % regr.score(duration_X_test, duration_Y_test))\n",
    "print('Coefficients: \\n', regr.coef_)\n",
    "plt.plot(duration_X_test, duration_Y_test,  color='black')\n",
    "plt.plot(duration_X_test, prediction, color='blue',\n",
    "         linewidth=3)\n",
    "plt.xticks(())\n",
    "plt.yticks(())\n",
    "\n",
    "plt.show()"
   ]
  },
  {
   "cell_type": "code",
   "execution_count": null,
   "metadata": {
    "collapsed": true
   },
   "outputs": [],
   "source": [
    "features_train = trainingSet[['start_dayOfWeek', 'end_dayOfWeek', 'end_hour', 'start_station_id', 'historical','distance']]\n",
    "feature_target = trainingSet.duration\n",
    "duration_X_train = features_train[:384973]\n",
    "duration_X_test = features_train[384973:]\n",
    "\n",
    "duration_Y_train = feature_target[:384973]\n",
    "duration_Y_test = feature_target[384973:]"
   ]
  },
  {
   "cell_type": "code",
   "execution_count": null,
   "metadata": {},
   "outputs": [],
   "source": [
    "regr.fit(duration_X_train, duration_Y_train)\n",
    "prediction = regr.predict(duration_X_test)\n",
    "print (\"Error cuadratico medio: %.2f \" % np.mean((prediction - duration_Y_test)**2))\n",
    "print('Variance score: %.2f' % regr.score(duration_X_test, duration_Y_test))\n",
    "print('Coefficients: \\n', regr.coef_)\n",
    "plt.plot(duration_X_test, duration_Y_test,  color='black')\n",
    "plt.plot(duration_X_test, prediction, color='blue',\n",
    "         linewidth=3)\n",
    "plt.xticks(())\n",
    "plt.yticks(())\n",
    "\n",
    "plt.show()"
   ]
  },
  {
   "cell_type": "code",
   "execution_count": null,
   "metadata": {
    "collapsed": true
   },
   "outputs": [],
   "source": [
    "features_train = trainingSet[['historical']]\n",
    "feature_target = trainingSet.duration\n",
    "duration_X_train = features_train[:384973]\n",
    "duration_X_test = features_train[384973:]\n",
    "\n",
    "duration_Y_train = feature_target[:384973]\n",
    "duration_Y_test = feature_target[384973:]"
   ]
  },
  {
   "cell_type": "code",
   "execution_count": null,
   "metadata": {},
   "outputs": [],
   "source": [
    "\n",
    "regr.fit(duration_X_train, duration_Y_train)\n",
    "prediction = regr.predict(duration_X_test)\n",
    "print (\"Error cuadratico medio: %.2f \" % np.mean((prediction - duration_Y_test)**2))\n",
    "print('Variance score: %.2f' % regr.score(duration_X_test, duration_Y_test))\n",
    "print('Coefficients: \\n', regr.coef_)\n",
    "plt.scatter(duration_X_test, duration_Y_test,  color='black')\n",
    "plt.scatter(duration_X_test, prediction, color='blue',\n",
    "         linewidth=3)\n",
    "plt.xticks(())\n",
    "plt.yticks(())\n",
    "\n",
    "plt.show()"
   ]
  },
  {
   "cell_type": "code",
   "execution_count": null,
   "metadata": {
    "collapsed": true
   },
   "outputs": [],
   "source": [
    "features_train = trainingSet[['start_dayOfWeek', 'end_dayOfWeek', 'end_hour', 'start_station_id', 'historical','distance']]\n",
    "feature_target = trainingSet.duration\n",
    "duration_X_train = features_train[:384973]\n",
    "duration_X_test = features_train[384973:]\n",
    "\n",
    "duration_Y_train = feature_target[:384973]\n",
    "duration_Y_test = feature_target[384973:]\n",
    "\n"
   ]
  },
  {
   "cell_type": "code",
   "execution_count": null,
   "metadata": {},
   "outputs": [],
   "source": [
    "from sklearn.linear_model import Ridge\n",
    "regr = linear_model.Ridge (alpha = .5)\n",
    "regr.fit (duration_X_train, duration_Y_train) \n",
    "prediction = regr.predict(duration_X_test)\n",
    "Ridge(alpha=0.5, copy_X=True, fit_intercept=True, max_iter=None,normalize=False, random_state=None, solver='auto', tol=0.001)\n",
    "print (\"Error cuadratico medio: %.2f \" % np.mean((prediction - duration_Y_test)**2))\n",
    "print('Variance score: %.2f' % regr.score(duration_X_test, duration_Y_test))\n",
    "print('Coefficients: \\n', regr.coef_)\n"
   ]
  },
  {
   "cell_type": "code",
   "execution_count": null,
   "metadata": {
    "collapsed": true
   },
   "outputs": [],
   "source": []
  }
 ],
 "metadata": {
  "kernelspec": {
   "display_name": "Python 2",
   "language": "python",
   "name": "python2"
  },
  "language_info": {
   "codemirror_mode": {
    "name": "ipython",
    "version": 2
   },
   "file_extension": ".py",
   "mimetype": "text/x-python",
   "name": "python",
   "nbconvert_exporter": "python",
   "pygments_lexer": "ipython2",
   "version": "2.7.13"
  }
 },
 "nbformat": 4,
 "nbformat_minor": 2
}
