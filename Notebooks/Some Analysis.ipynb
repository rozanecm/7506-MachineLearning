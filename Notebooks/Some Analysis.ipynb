{
 "cells": [
  {
   "cell_type": "markdown",
   "metadata": {},
   "source": [
    "# TP2: Machine Learning"
   ]
  },
  {
   "cell_type": "code",
   "execution_count": 1,
   "metadata": {
    "collapsed": true
   },
   "outputs": [],
   "source": [
    "import pandas as pd\n",
    "import numpy as np\n",
    "import math\n",
    "import matplotlib.pyplot as plt\n",
    "# import ML packages\n",
    "from sklearn.cluster import KMeans\n",
    "from sklearn.datasets import make_blobs\n",
    "from sklearn.metrics import mean_squared_error\n",
    "from sklearn.ensemble import RandomForestRegressor, GradientBoostingRegressor, AdaBoostRegressor\n",
    "from sklearn.model_selection import cross_val_score, train_test_split\n",
    "from sklearn import linear_model\n",
    "from sklearn import preprocessing\n",
    "from sklearn import metrics\n",
    "from sklearn import neural_network\n",
    "# import Plotting pckgs\n",
    "from matplotlib import pyplot as plt\n",
    "%matplotlib inline"
   ]
  },
  {
   "cell_type": "code",
   "execution_count": 2,
   "metadata": {},
   "outputs": [
    {
     "data": {
      "text/plain": [
       "id                                             int64\n",
       "duration                                     float64\n",
       "start_date                                    object\n",
       "start_dayOfWeek                                int64\n",
       "start_week                                     int64\n",
       "start_quarter                                  int64\n",
       "start_time                                    object\n",
       "start_hour                                     int64\n",
       "start_minute                                   int64\n",
       "start_station_name                            object\n",
       "start_station_id                               int64\n",
       "end_date                                      object\n",
       "end_dayOfWeek                                  int64\n",
       "end_week                                       int64\n",
       "end_quarter                                    int64\n",
       "end_time                                      object\n",
       "end_hour                                       int64\n",
       "end_minute                                     int64\n",
       "end_station_name                              object\n",
       "end_station_id                                 int64\n",
       "bike_id                                        int64\n",
       "subscription_type                             object\n",
       "zip_code                                      object\n",
       "distance                                     float64\n",
       "historical                                     int64\n",
       "viajes                                         int64\n",
       "max_temperature_c                            float64\n",
       "min_temperature_c                            float64\n",
       "max_humidity                                 float64\n",
       "max_sea_level_pressure_cm                    float64\n",
       "                                              ...   \n",
       "end Ryland Park                                int64\n",
       "end Rengstorff Avenue / California Street      int64\n",
       "end Adobe on Almaden                           int64\n",
       "end Park at Olive                              int64\n",
       "end San Jose City Hall                         int64\n",
       "end San Salvador at 1st                        int64\n",
       "end San Jose Civic Center                      int64\n",
       "end University and Emerson                     int64\n",
       "end Redwood City Public Library                int64\n",
       "end Mezes Park                                 int64\n",
       "end Washington at Kearney                      int64\n",
       "end Post at Kearney                            int64\n",
       "end Broadway at Main                           int64\n",
       "end San Jose Government Center                 int64\n",
       "start_dayOfWeek_id0                            int64\n",
       "start_dayOfWeek_id1                            int64\n",
       "start_dayOfWeek_id2                            int64\n",
       "start_dayOfWeek_id3                            int64\n",
       "start_dayOfWeek_id4                            int64\n",
       "start_dayOfWeek_id5                            int64\n",
       "start_dayOfWeek_id6                            int64\n",
       "end_dayOfWeek_id0                              int64\n",
       "end_dayOfWeek_id1                              int64\n",
       "end_dayOfWeek_id2                              int64\n",
       "end_dayOfWeek_id3                              int64\n",
       "end_dayOfWeek_id4                              int64\n",
       "end_dayOfWeek_id5                              int64\n",
       "end_dayOfWeek_id6                              int64\n",
       "subscription_type_Subscriber                   int64\n",
       "subscription_type_Customer                     int64\n",
       "Length: 203, dtype: object"
      ]
     },
     "execution_count": 2,
     "metadata": {},
     "output_type": "execute_result"
    }
   ],
   "source": [
    "trainingSet = pd.read_csv('../CSVs/improved_trip_train.csv')\n",
    "testingSet = pd.read_csv('../CSVs/improved_trip_test.csv')\n",
    "testingOriginal = pd.read_csv('../CSVs/trip_test.csv')\n",
    "\n",
    "trainingSet.dtypes"
   ]
  },
  {
   "cell_type": "code",
   "execution_count": 3,
   "metadata": {},
   "outputs": [
    {
     "data": {
      "text/plain": [
       "['id',\n",
       " 'duration',\n",
       " 'start_date',\n",
       " 'start_dayOfWeek',\n",
       " 'start_week',\n",
       " 'start_quarter',\n",
       " 'start_time',\n",
       " 'start_hour',\n",
       " 'start_minute',\n",
       " 'start_station_name',\n",
       " 'start_station_id',\n",
       " 'end_date',\n",
       " 'end_dayOfWeek',\n",
       " 'end_week',\n",
       " 'end_quarter',\n",
       " 'end_time',\n",
       " 'end_hour',\n",
       " 'end_minute',\n",
       " 'end_station_name',\n",
       " 'end_station_id',\n",
       " 'bike_id',\n",
       " 'subscription_type',\n",
       " 'zip_code',\n",
       " 'distance',\n",
       " 'historical',\n",
       " 'viajes',\n",
       " 'max_temperature_c',\n",
       " 'min_temperature_c',\n",
       " 'max_humidity',\n",
       " 'max_sea_level_pressure_cm',\n",
       " 'precipitation_cm',\n",
       " 'Fog',\n",
       " 'Normal',\n",
       " 'Rain',\n",
       " 'business_day',\n",
       " 'holiday',\n",
       " 'year',\n",
       " 'month',\n",
       " 'weekday',\n",
       " 'start Harry Bridges Plaza (Ferry Building)',\n",
       " 'start Market at Sansome',\n",
       " 'start San Francisco Caltrain 2 (330 Townsend)',\n",
       " 'start Market at 10th',\n",
       " 'start Townsend at 7th',\n",
       " 'start Powell at Post (Union Square)',\n",
       " 'start 2nd at Folsom',\n",
       " 'start San Francisco Caltrain (Townsend at 4th)',\n",
       " 'start 2nd at Townsend',\n",
       " 'start Beale at Market',\n",
       " 'start Embarcadero at Bryant',\n",
       " 'start Temporary Transbay Terminal (Howard at Beale)',\n",
       " 'start Howard at 2nd',\n",
       " 'start Steuart at Market',\n",
       " 'start Rengstorff Avenue / California Street',\n",
       " 'start San Jose Diridon Caltrain Station',\n",
       " 'start Grant Avenue at Columbus Avenue',\n",
       " 'start 2nd at South Park',\n",
       " 'start Embarcadero at Sansome',\n",
       " 'start Davis at Jackson',\n",
       " 'start St James Park',\n",
       " 'start South Van Ness at Market',\n",
       " 'start Powell Street BART',\n",
       " 'start Broadway St at Battery St',\n",
       " 'start Civic Center BART (7th at Market)',\n",
       " 'start Yerba Buena Center of the Arts (3rd @ Howard)',\n",
       " 'start Clay at Battery',\n",
       " 'start San Antonio Caltrain Station',\n",
       " 'start Commercial at Montgomery',\n",
       " 'start Cowper at University',\n",
       " 'start Golden Gate at Polk',\n",
       " 'start Embarcadero at Folsom',\n",
       " 'start Embarcadero at Vallejo',\n",
       " 'start Market at 4th',\n",
       " 'start Spear at Folsom',\n",
       " 'start Mechanics Plaza (Market at Battery)',\n",
       " 'start Palo Alto Caltrain Station',\n",
       " 'start 5th at Howard',\n",
       " 'start Paseo de San Antonio',\n",
       " 'start San Antonio Shopping Center',\n",
       " 'start Santa Clara at Almaden',\n",
       " 'start Ryland Park',\n",
       " 'start San Pedro Square',\n",
       " 'start Mountain View Caltrain Station',\n",
       " 'start San Francisco City Hall',\n",
       " 'start Post at Kearny',\n",
       " 'start Castro Street and El Camino Real',\n",
       " 'start Mountain View City Hall',\n",
       " 'start Redwood City Caltrain Station',\n",
       " 'start Stanford in Redwood City',\n",
       " 'start Japantown',\n",
       " 'start California Ave Caltrain Station',\n",
       " 'start Evelyn Park and Ride',\n",
       " 'start Washington at Kearny',\n",
       " 'start MLK Library',\n",
       " 'start Redwood City Medical Center',\n",
       " 'start Mezes Park',\n",
       " 'start SJSU 4th at San Carlos',\n",
       " 'start San Jose Civic Center',\n",
       " 'start Adobe on Almaden',\n",
       " 'start Franklin at Maple',\n",
       " 'start SJSU - San Salvador at 9th',\n",
       " 'start Santa Clara County Civic Center',\n",
       " 'start San Jose City Hall',\n",
       " 'start Arena Green / SAP Center',\n",
       " 'start San Salvador at 1st',\n",
       " 'start University and Emerson',\n",
       " 'start Post at Kearney',\n",
       " 'start Washington at Kearney',\n",
       " 'start Park at Olive',\n",
       " 'start San Mateo County Center',\n",
       " 'start Redwood City Public Library',\n",
       " 'start Broadway at Main',\n",
       " 'start San Jose Government Center',\n",
       " 'end Embarcadero at Sansome',\n",
       " 'end 2nd at Folsom',\n",
       " 'end Temporary Transbay Terminal (Howard at Beale)',\n",
       " 'end Powell Street BART',\n",
       " 'end San Francisco Caltrain (Townsend at 4th)',\n",
       " 'end Market at 10th',\n",
       " 'end Embarcadero at Folsom',\n",
       " 'end 2nd at Townsend',\n",
       " 'end Harry Bridges Plaza (Ferry Building)',\n",
       " 'end South Van Ness at Market',\n",
       " 'end 2nd at South Park',\n",
       " 'end Townsend at 7th',\n",
       " 'end Commercial at Montgomery',\n",
       " 'end Mountain View Caltrain Station',\n",
       " 'end San Pedro Square',\n",
       " 'end Market at Sansome',\n",
       " 'end Civic Center BART (7th at Market)',\n",
       " 'end Embarcadero at Bryant',\n",
       " 'end Market at 4th',\n",
       " 'end Steuart at Market',\n",
       " 'end Yerba Buena Center of the Arts (3rd @ Howard)',\n",
       " 'end Beale at Market',\n",
       " 'end Broadway St at Battery St',\n",
       " 'end San Jose Diridon Caltrain Station',\n",
       " 'end 5th at Howard',\n",
       " 'end Howard at 2nd',\n",
       " 'end Embarcadero at Vallejo',\n",
       " 'end San Francisco Caltrain 2 (330 Townsend)',\n",
       " 'end MLK Library',\n",
       " 'end San Antonio Shopping Center',\n",
       " 'end Palo Alto Caltrain Station',\n",
       " 'end Spear at Folsom',\n",
       " 'end Powell at Post (Union Square)',\n",
       " 'end Clay at Battery',\n",
       " 'end Davis at Jackson',\n",
       " 'end Washington at Kearny',\n",
       " 'end Post at Kearny',\n",
       " 'end Golden Gate at Polk',\n",
       " 'end Cowper at University',\n",
       " 'end San Antonio Caltrain Station',\n",
       " 'end Paseo de San Antonio',\n",
       " 'end Santa Clara County Civic Center',\n",
       " 'end California Ave Caltrain Station',\n",
       " 'end Mountain View City Hall',\n",
       " 'end Mechanics Plaza (Market at Battery)',\n",
       " 'end Santa Clara at Almaden',\n",
       " 'end Grant Avenue at Columbus Avenue',\n",
       " 'end Stanford in Redwood City',\n",
       " 'end Redwood City Caltrain Station',\n",
       " 'end San Francisco City Hall',\n",
       " 'end Arena Green / SAP Center',\n",
       " 'end Franklin at Maple',\n",
       " 'end Castro Street and El Camino Real',\n",
       " 'end San Mateo County Center',\n",
       " 'end SJSU - San Salvador at 9th',\n",
       " 'end Redwood City Medical Center',\n",
       " 'end Japantown',\n",
       " 'end Evelyn Park and Ride',\n",
       " 'end SJSU 4th at San Carlos',\n",
       " 'end St James Park',\n",
       " 'end Ryland Park',\n",
       " 'end Rengstorff Avenue / California Street',\n",
       " 'end Adobe on Almaden',\n",
       " 'end Park at Olive',\n",
       " 'end San Jose City Hall',\n",
       " 'end San Salvador at 1st',\n",
       " 'end San Jose Civic Center',\n",
       " 'end University and Emerson',\n",
       " 'end Redwood City Public Library',\n",
       " 'end Mezes Park',\n",
       " 'end Washington at Kearney',\n",
       " 'end Post at Kearney',\n",
       " 'end Broadway at Main',\n",
       " 'end San Jose Government Center',\n",
       " 'start_dayOfWeek_id0',\n",
       " 'start_dayOfWeek_id1',\n",
       " 'start_dayOfWeek_id2',\n",
       " 'start_dayOfWeek_id3',\n",
       " 'start_dayOfWeek_id4',\n",
       " 'start_dayOfWeek_id5',\n",
       " 'start_dayOfWeek_id6',\n",
       " 'end_dayOfWeek_id0',\n",
       " 'end_dayOfWeek_id1',\n",
       " 'end_dayOfWeek_id2',\n",
       " 'end_dayOfWeek_id3',\n",
       " 'end_dayOfWeek_id4',\n",
       " 'end_dayOfWeek_id5',\n",
       " 'end_dayOfWeek_id6',\n",
       " 'subscription_type_Subscriber',\n",
       " 'subscription_type_Customer']"
      ]
     },
     "execution_count": 3,
     "metadata": {},
     "output_type": "execute_result"
    }
   ],
   "source": [
    "list(trainingSet.columns.values)"
   ]
  },
  {
   "cell_type": "code",
   "execution_count": null,
   "metadata": {
    "collapsed": true
   },
   "outputs": [],
   "source": [
    "testingOriginal.dtypes"
   ]
  },
  {
   "cell_type": "markdown",
   "metadata": {},
   "source": [
    "## Aca hize un df del tipo test para comparar el resultado pero creo que es preferible dividir el set original de training en, train y test, al final de todo usamos este y listo."
   ]
  },
  {
   "cell_type": "code",
   "execution_count": null,
   "metadata": {
    "collapsed": true
   },
   "outputs": [],
   "source": [
    "# dfTrip = pd.read_csv('../CSVs/trip.csv')\n",
    "# dfTrip = dfTrip.loc[:,['id','duration']]\n",
    "# dfTrip = dfTrip.rename(columns={'duration':'durationPosta'})\n",
    "# dfScore = pd.merge(testingSet,dfTrip,on =['id'],how = 'inner')\n",
    "# dfScore"
   ]
  },
  {
   "cell_type": "code",
   "execution_count": null,
   "metadata": {
    "collapsed": true
   },
   "outputs": [],
   "source": [
    "trainingSet.head()"
   ]
  },
  {
   "cell_type": "code",
   "execution_count": null,
   "metadata": {
    "collapsed": true
   },
   "outputs": [],
   "source": [
    "trainingSet.shape"
   ]
  },
  {
   "cell_type": "code",
   "execution_count": null,
   "metadata": {
    "collapsed": true
   },
   "outputs": [],
   "source": [
    "testingSet.head()"
   ]
  },
  {
   "cell_type": "code",
   "execution_count": null,
   "metadata": {
    "collapsed": true
   },
   "outputs": [],
   "source": [
    "trainingSet.duration.mean()"
   ]
  },
  {
   "cell_type": "markdown",
   "metadata": {},
   "source": [
    "### Let's study correlation between data"
   ]
  },
  {
   "cell_type": "code",
   "execution_count": 15,
   "metadata": {},
   "outputs": [
    {
     "data": {
      "text/plain": [
       "id                          -0.003133\n",
       "duration                     1.000000\n",
       "start_dayOfWeek              0.018351\n",
       "start_week                   0.004002\n",
       "start_quarter                0.003648\n",
       "start_hour                   0.002598\n",
       "start_minute                 0.002586\n",
       "start_station_id            -0.007001\n",
       "end_dayOfWeek                0.013753\n",
       "end_week                     0.002100\n",
       "end_quarter                  0.001376\n",
       "end_hour                     0.009626\n",
       "end_minute                  -0.000530\n",
       "end_station_id              -0.006026\n",
       "bike_id                     -0.001569\n",
       "distance                     0.004053\n",
       "historical                   0.120417\n",
       "viajes                      -0.023309\n",
       "max_temperature_c            0.000839\n",
       "min_temperature_c            0.002477\n",
       "max_humidity                 0.001039\n",
       "max_sea_level_pressure_cm   -0.000022\n",
       "precipitation_cm             0.000900\n",
       "Fog                          0.000033\n",
       "Normal                      -0.001215\n",
       "Rain                        -0.002429\n",
       "business_day                -0.025331\n",
       "holiday                      0.003168\n",
       "year                        -0.004536\n",
       "month                        0.004531\n",
       "weekday                      0.018351\n",
       "Name: duration, dtype: float64"
      ]
     },
     "execution_count": 15,
     "metadata": {},
     "output_type": "execute_result"
    }
   ],
   "source": [
    "trainingSet.corr()['duration']\n"
   ]
  },
  {
   "cell_type": "markdown",
   "metadata": {},
   "source": [
    "We can see that the duration is most correlated with:\n",
    "    - start_dayOfWeek     0.018351\n",
    "    - end_dayOfWeek       0.013753\n",
    "    - end_hour            0.009626\n",
    "    - start_station_id   -0.007001\n",
    "    - weekday                      0.018351\n",
    "    - distance                     0.004053\n",
    "    - min_temperature_c            0.002477\n",
    "    - max_humidity                 0.001039\n",
    "    - historical                   0.120417\n",
    "    - distance                     0.004053\n",
    "    "
   ]
  },
  {
   "cell_type": "code",
   "execution_count": null,
   "metadata": {
    "collapsed": true
   },
   "outputs": [],
   "source": [
    "columns = trainingSet.columns.tolist()\n",
    "columns"
   ]
  },
  {
   "cell_type": "code",
   "execution_count": 82,
   "metadata": {},
   "outputs": [
    {
     "data": {
      "text/plain": [
       "id                             int64\n",
       "duration                       int64\n",
       "start_date                    object\n",
       "start_dayOfWeek                int64\n",
       "start_week                     int64\n",
       "start_quarter                  int64\n",
       "start_time                    object\n",
       "start_hour                     int64\n",
       "start_minute                   int64\n",
       "start_station_name            object\n",
       "start_station_id               int64\n",
       "end_date                      object\n",
       "end_dayOfWeek                  int64\n",
       "end_week                       int64\n",
       "end_quarter                    int64\n",
       "end_time                      object\n",
       "end_hour                       int64\n",
       "end_minute                     int64\n",
       "end_station_name              object\n",
       "end_station_id                 int64\n",
       "bike_id                        int64\n",
       "subscription_type             object\n",
       "zip_code                      object\n",
       "distance                     float64\n",
       "historical                     int64\n",
       "viajes                         int64\n",
       "max_temperature_c            float64\n",
       "min_temperature_c            float64\n",
       "max_humidity                 float64\n",
       "max_sea_level_pressure_cm    float64\n",
       "precipitation_cm             float64\n",
       "Fog                            int64\n",
       "Normal                         int64\n",
       "Rain                           int64\n",
       "business_day                   int64\n",
       "holiday                        int64\n",
       "year                           int64\n",
       "month                          int64\n",
       "weekday                        int64\n",
       "dtype: object"
      ]
     },
     "execution_count": 82,
     "metadata": {},
     "output_type": "execute_result"
    }
   ],
   "source": [
    "trainingSet.dtypes"
   ]
  },
  {
   "cell_type": "code",
   "execution_count": 3,
   "metadata": {
    "collapsed": true
   },
   "outputs": [],
   "source": [
    "# Create linear regression object\n",
    "regr = linear_model.LinearRegression()"
   ]
  },
  {
   "cell_type": "code",
   "execution_count": 4,
   "metadata": {},
   "outputs": [
    {
     "data": {
      "text/plain": [
       "(549961, 39)"
      ]
     },
     "execution_count": 4,
     "metadata": {},
     "output_type": "execute_result"
    }
   ],
   "source": [
    "trainingSet.shape"
   ]
  },
  {
   "cell_type": "markdown",
   "metadata": {},
   "source": [
    "### tengo 549961 filas, voy a dividir en un 70 train y 30 test (%)\n",
    "### 70 % = 384973"
   ]
  },
  {
   "cell_type": "code",
   "execution_count": null,
   "metadata": {
    "collapsed": true
   },
   "outputs": [],
   "source": [
    "\n",
    "X = trainingSet[['id',\n",
    " 'duration',\n",
    " 'start_date',\n",
    " 'start_dayOfWeek',\n",
    " 'start_week',\n",
    " 'start_quarter',\n",
    " 'start_time',\n",
    " 'start_hour',\n",
    " 'start_minute',\n",
    " 'start_station_name',\n",
    " 'start_station_id',\n",
    " 'end_date',\n",
    " 'end_dayOfWeek',\n",
    " 'end_week',\n",
    " 'end_quarter',\n",
    " 'end_time',\n",
    " 'end_hour',\n",
    " 'end_minute',\n",
    " 'end_station_name',\n",
    " 'end_station_id',\n",
    " 'bike_id',\n",
    " 'subscription_type',\n",
    " 'zip_code',\n",
    " 'distance',\n",
    " 'historical',\n",
    " 'viajes',\n",
    " 'max_temperature_c',\n",
    " 'min_temperature_c',\n",
    " 'max_humidity',\n",
    " 'max_sea_level_pressure_cm',\n",
    " 'precipitation_cm',\n",
    " 'Fog',\n",
    " 'Normal',\n",
    " 'Rain',\n",
    " 'business_day',\n",
    " 'holiday',\n",
    " 'year',\n",
    " 'month',\n",
    " 'weekday',\n",
    " 'start Harry Bridges Plaza (Ferry Building)',\n",
    " 'start Market at Sansome',\n",
    " 'start San Francisco Caltrain 2 (330 Townsend)',\n",
    " 'start Market at 10th',\n",
    " 'start Townsend at 7th',\n",
    " 'start Powell at Post (Union Square)',\n",
    " 'start 2nd at Folsom',\n",
    " 'start San Francisco Caltrain (Townsend at 4th)',\n",
    " 'start 2nd at Townsend',\n",
    " 'start Beale at Market',\n",
    " 'start Embarcadero at Bryant',\n",
    " 'start Temporary Transbay Terminal (Howard at Beale)',\n",
    " 'start Howard at 2nd',\n",
    " 'start Steuart at Market',\n",
    " 'start Rengstorff Avenue / California Street',\n",
    " 'start San Jose Diridon Caltrain Station',\n",
    " 'start Grant Avenue at Columbus Avenue',\n",
    " 'start 2nd at South Park',\n",
    " 'start Embarcadero at Sansome',\n",
    " 'start Davis at Jackson',\n",
    " 'start St James Park',\n",
    " 'start South Van Ness at Market',\n",
    " 'start Powell Street BART',\n",
    " 'start Broadway St at Battery St',\n",
    " 'start Civic Center BART (7th at Market)',\n",
    " 'start Yerba Buena Center of the Arts (3rd @ Howard)',\n",
    " 'start Clay at Battery',\n",
    " 'start San Antonio Caltrain Station',\n",
    " 'start Commercial at Montgomery',\n",
    " 'start Cowper at University',\n",
    " 'start Golden Gate at Polk',\n",
    " 'start Embarcadero at Folsom',\n",
    " 'start Embarcadero at Vallejo',\n",
    " 'start Market at 4th',\n",
    " 'start Spear at Folsom',\n",
    " 'start Mechanics Plaza (Market at Battery)',\n",
    " 'start Palo Alto Caltrain Station',\n",
    " 'start 5th at Howard',\n",
    " 'start Paseo de San Antonio',\n",
    " 'start San Antonio Shopping Center',\n",
    " 'start Santa Clara at Almaden',\n",
    " 'start Ryland Park',\n",
    " 'start San Pedro Square',\n",
    " 'start Mountain View Caltrain Station',\n",
    " 'start San Francisco City Hall',\n",
    " 'start Post at Kearny',\n",
    " 'start Castro Street and El Camino Real',\n",
    " 'start Mountain View City Hall',\n",
    " 'start Redwood City Caltrain Station',\n",
    " 'start Stanford in Redwood City',\n",
    " 'start Japantown',\n",
    " 'start California Ave Caltrain Station',\n",
    " 'start Evelyn Park and Ride',\n",
    " 'start Washington at Kearny',\n",
    " 'start MLK Library',\n",
    " 'start Redwood City Medical Center',\n",
    " 'start Mezes Park',\n",
    " 'start SJSU 4th at San Carlos',\n",
    " 'start San Jose Civic Center',\n",
    " 'start Adobe on Almaden',\n",
    " 'start Franklin at Maple',\n",
    " 'start SJSU - San Salvador at 9th',\n",
    " 'start Santa Clara County Civic Center',\n",
    " 'start San Jose City Hall',\n",
    " 'start Arena Green / SAP Center',\n",
    " 'start San Salvador at 1st',\n",
    " 'start University and Emerson',\n",
    " 'start Post at Kearney',\n",
    " 'start Washington at Kearney',\n",
    " 'start Park at Olive',\n",
    " 'start San Mateo County Center',\n",
    " 'start Redwood City Public Library',\n",
    " 'start Broadway at Main',\n",
    " 'start San Jose Government Center',\n",
    " 'end Embarcadero at Sansome',\n",
    " 'end 2nd at Folsom',\n",
    " 'end Temporary Transbay Terminal (Howard at Beale)',\n",
    " 'end Powell Street BART',\n",
    " 'end San Francisco Caltrain (Townsend at 4th)',\n",
    " 'end Market at 10th',\n",
    " 'end Embarcadero at Folsom',\n",
    " 'end 2nd at Townsend',\n",
    " 'end Harry Bridges Plaza (Ferry Building)',\n",
    " 'end South Van Ness at Market',\n",
    " 'end 2nd at South Park',\n",
    " 'end Townsend at 7th',\n",
    " 'end Commercial at Montgomery',\n",
    " 'end Mountain View Caltrain Station',\n",
    " 'end San Pedro Square',\n",
    " 'end Market at Sansome',\n",
    " 'end Civic Center BART (7th at Market)',\n",
    " 'end Embarcadero at Bryant',\n",
    " 'end Market at 4th',\n",
    " 'end Steuart at Market',\n",
    " 'end Yerba Buena Center of the Arts (3rd @ Howard)',\n",
    " 'end Beale at Market',\n",
    " 'end Broadway St at Battery St',\n",
    " 'end San Jose Diridon Caltrain Station',\n",
    " 'end 5th at Howard',\n",
    " 'end Howard at 2nd',\n",
    " 'end Embarcadero at Vallejo',\n",
    " 'end San Francisco Caltrain 2 (330 Townsend)',\n",
    " 'end MLK Library',\n",
    " 'end San Antonio Shopping Center',\n",
    " 'end Palo Alto Caltrain Station',\n",
    " 'end Spear at Folsom',\n",
    " 'end Powell at Post (Union Square)',\n",
    " 'end Clay at Battery',\n",
    " 'end Davis at Jackson',\n",
    " 'end Washington at Kearny',\n",
    " 'end Post at Kearny',\n",
    " 'end Golden Gate at Polk',\n",
    " 'end Cowper at University',\n",
    " 'end San Antonio Caltrain Station',\n",
    " 'end Paseo de San Antonio',\n",
    " 'end Santa Clara County Civic Center',\n",
    " 'end California Ave Caltrain Station',\n",
    " 'end Mountain View City Hall',\n",
    " 'end Mechanics Plaza (Market at Battery)',\n",
    " 'end Santa Clara at Almaden',\n",
    " 'end Grant Avenue at Columbus Avenue',\n",
    " 'end Stanford in Redwood City',\n",
    " 'end Redwood City Caltrain Station',\n",
    " 'end San Francisco City Hall',\n",
    " 'end Arena Green / SAP Center',\n",
    " 'end Franklin at Maple',\n",
    " 'end Castro Street and El Camino Real',\n",
    " 'end San Mateo County Center',\n",
    " 'end SJSU - San Salvador at 9th',\n",
    " 'end Redwood City Medical Center',\n",
    " 'end Japantown',\n",
    " 'end Evelyn Park and Ride',\n",
    " 'end SJSU 4th at San Carlos',\n",
    " 'end St James Park',\n",
    " 'end Ryland Park',\n",
    " 'end Rengstorff Avenue / California Street',\n",
    " 'end Adobe on Almaden',\n",
    " 'end Park at Olive',\n",
    " 'end San Jose City Hall',\n",
    " 'end San Salvador at 1st',\n",
    " 'end San Jose Civic Center',\n",
    " 'end University and Emerson',\n",
    " 'end Redwood City Public Library',\n",
    " 'end Mezes Park',\n",
    " 'end Washington at Kearney',\n",
    " 'end Post at Kearney',\n",
    " 'end Broadway at Main',\n",
    " 'end San Jose Government Center',\n",
    " 'start_dayOfWeek_id0',\n",
    " 'start_dayOfWeek_id1',\n",
    " 'start_dayOfWeek_id2',\n",
    " 'start_dayOfWeek_id3',\n",
    " 'start_dayOfWeek_id4',\n",
    " 'start_dayOfWeek_id5',\n",
    " 'start_dayOfWeek_id6',\n",
    " 'end_dayOfWeek_id0',\n",
    " 'end_dayOfWeek_id1',\n",
    " 'end_dayOfWeek_id2',\n",
    " 'end_dayOfWeek_id3',\n",
    " 'end_dayOfWeek_id4',\n",
    " 'end_dayOfWeek_id5',\n",
    " 'end_dayOfWeek_id6',\n",
    " 'subscription_type_Subscriber',\n",
    " 'subscription_type_Customer']]                    \n",
    "    \n",
    "\n",
    "y = trainingSet.duration\n",
    "\n",
    "X_train, X_test, y_train, y_test = train_test_split(X, y, test_size=0.3, random_state = 2)\n"
   ]
  },
  {
   "cell_type": "code",
   "execution_count": 57,
   "metadata": {
    "collapsed": true
   },
   "outputs": [],
   "source": [
    "def scoring(clf):\n",
    "    scores = cross_val_score(clf, X_train, y_train, cv=15, n_jobs=1, scoring = 'neg_median_absolute_error')\n",
    "    print (np.median(scores) * -1)"
   ]
  },
  {
   "cell_type": "code",
   "execution_count": 60,
   "metadata": {},
   "outputs": [
    {
     "name": "stdout",
     "output_type": "stream",
     "text": [
      "109.166865079\n"
     ]
    }
   ],
   "source": [
    "rfr = RandomForestRegressor(n_estimators = 10,\n",
    "                            min_samples_leaf = 3,\n",
    "                            random_state = 2)\n",
    "scoring(rfr)\n",
    "\n"
   ]
  },
  {
   "cell_type": "code",
   "execution_count": 68,
   "metadata": {
    "collapsed": true
   },
   "outputs": [],
   "source": [
    "rfr = rfr.fit(X_train, y_train)\n",
    "gbr = gbr.fit(X_train, y_train)\n",
    "\n",
    "rfr_preds = rfr.predict(X_test)\n",
    "gbr_preds = gbr.predict(X_test)"
   ]
  },
  {
   "cell_type": "code",
   "execution_count": 69,
   "metadata": {},
   "outputs": [
    {
     "name": "stdout",
     "output_type": "stream",
     "text": [
      "Error cuadratico medio: 157041082.02 \n",
      "Error cuadratico medio: 52043963.30 \n"
     ]
    }
   ],
   "source": [
    "print (\"Error cuadratico medio: %.2f \" % np.mean((rfr_preds - y_test)**2))\n",
    "print (\"Error cuadratico medio: %.2f \" % np.mean((gbr_preds - y_test)**2))"
   ]
  },
  {
   "cell_type": "code",
   "execution_count": 65,
   "metadata": {},
   "outputs": [
    {
     "name": "stdout",
     "output_type": "stream",
     "text": [
      "314.462950581\n"
     ]
    }
   ],
   "source": [
    "gbr = GradientBoostingRegressor(learning_rate = 0.12,\n",
    "                                n_estimators = 10,\n",
    "                                max_depth = 8,\n",
    "                                min_samples_leaf = 1,\n",
    "                                random_state = 2)\n",
    "scoring(gbr)\n",
    "\n"
   ]
  },
  {
   "cell_type": "code",
   "execution_count": 6,
   "metadata": {},
   "outputs": [
    {
     "data": {
      "text/plain": [
       "LinearRegression(copy_X=True, fit_intercept=True, n_jobs=1, normalize=False)"
      ]
     },
     "execution_count": 6,
     "metadata": {},
     "output_type": "execute_result"
    }
   ],
   "source": [
    "# Train the model using the training sets\n",
    "regr.fit(X_train, y_train)"
   ]
  },
  {
   "cell_type": "code",
   "execution_count": 7,
   "metadata": {},
   "outputs": [
    {
     "data": {
      "text/plain": [
       "array([ 1094.77676604,   548.53171183,   766.64571126, ...,  3087.64770606,\n",
       "        2300.46129067,  2450.6244456 ])"
      ]
     },
     "execution_count": 7,
     "metadata": {},
     "output_type": "execute_result"
    }
   ],
   "source": [
    "prediction = regr.predict(X_test)\n",
    "prediction"
   ]
  },
  {
   "cell_type": "code",
   "execution_count": 8,
   "metadata": {},
   "outputs": [
    {
     "name": "stdout",
     "output_type": "stream",
     "text": [
      "Error cuadratico medio: 1849699707.76 \n"
     ]
    }
   ],
   "source": [
    "print (\"Error cuadratico medio: %.2f \" % np.mean((prediction - Y_test)**2))"
   ]
  },
  {
   "cell_type": "code",
   "execution_count": 9,
   "metadata": {},
   "outputs": [
    {
     "name": "stdout",
     "output_type": "stream",
     "text": [
      "('Coefficients: \\n', array([  1.21980850e+01,   2.17380754e+01,   2.37382881e+02,\n",
      "         1.45025607e+02,  -6.40508808e-01,  -7.26354312e+02,\n",
      "         7.17128749e+01,   1.26974548e+02,  -8.27633864e+01,\n",
      "         7.89733188e+00,  -6.60100627e-01,   2.15091792e+03,\n",
      "        -4.26493567e+03,   2.76642783e+01,   2.15091792e+03,\n",
      "         1.93163571e+03,   7.89733188e+00,  -2.56916176e-01,\n",
      "         2.31810591e-01,   1.93163571e+03]))\n"
     ]
    }
   ],
   "source": [
    "print('Coefficients: \\n', regr.coef_)"
   ]
  },
  {
   "cell_type": "code",
   "execution_count": 70,
   "metadata": {},
   "outputs": [
    {
     "data": {
      "image/png": "[encoded data removed]",
      "text/plain": [
       "<matplotlib.figure.Figure at 0x7fc45ce1ec50>"
      ]
     },
     "metadata": {},
     "output_type": "display_data"
    }
   ],
   "source": [
    "plt.plot (y_test,  color='black')\n",
    "plt.plot(prediction, color='blue')\n",
    "plt.xticks(())\n",
    "plt.yticks(())\n",
    "\n",
    "plt.show()"
   ]
  },
  {
   "cell_type": "markdown",
   "metadata": {},
   "source": [
    "## RANDOM FOREST"
   ]
  },
  {
   "cell_type": "code",
   "execution_count": 32,
   "metadata": {
    "collapsed": true
   },
   "outputs": [],
   "source": [
    "RF = RandomForestRegressor(n_estimators=100, criterion='mse', max_depth=None, min_samples_split=2, min_samples_leaf=1, min_weight_fraction_leaf=0.0, max_features='auto', max_leaf_nodes=None, min_impurity_split=1e-07, bootstrap=True, oob_score=True, n_jobs=1, random_state=None, verbose=0, warm_start=False)"
   ]
  },
  {
   "cell_type": "code",
   "execution_count": 33,
   "metadata": {},
   "outputs": [
    {
     "data": {
      "text/plain": [
       "RandomForestRegressor(bootstrap=True, criterion='mse', max_depth=None,\n",
       "           max_features='auto', max_leaf_nodes=None,\n",
       "           min_impurity_split=1e-07, min_samples_leaf=1,\n",
       "           min_samples_split=2, min_weight_fraction_leaf=0.0,\n",
       "           n_estimators=100, n_jobs=1, oob_score=True, random_state=None,\n",
       "           verbose=0, warm_start=False)"
      ]
     },
     "execution_count": 33,
     "metadata": {},
     "output_type": "execute_result"
    }
   ],
   "source": [
    "RF.fit(X_train,Y_train)"
   ]
  },
  {
   "cell_type": "code",
   "execution_count": 34,
   "metadata": {},
   "outputs": [
    {
     "data": {
      "text/plain": [
       "array([ 0.02586604,  0.02828198,  0.00914204,  0.0049906 ,  0.00800857,\n",
       "        0.00764207,  0.00316011,  0.0047278 ,  0.04675509,  0.02687184,\n",
       "        0.1008047 ,  0.0748134 ,  0.25984117,  0.10259691,  0.06773054,\n",
       "        0.05812932,  0.02586145,  0.02835347,  0.1164229 ])"
      ]
     },
     "execution_count": 34,
     "metadata": {},
     "output_type": "execute_result"
    }
   ],
   "source": [
    "RF.feature_importances_"
   ]
  },
  {
   "cell_type": "code",
   "execution_count": 18,
   "metadata": {},
   "outputs": [
    {
     "data": {
      "text/plain": [
       "1"
      ]
     },
     "execution_count": 18,
     "metadata": {},
     "output_type": "execute_result"
    }
   ],
   "source": [
    "RF.n_outputs_"
   ]
  },
  {
   "cell_type": "code",
   "execution_count": 22,
   "metadata": {},
   "outputs": [
    {
     "name": "stderr",
     "output_type": "stream",
     "text": [
      "/home/augusto/anaconda2/lib/python2.7/site-packages/sklearn/utils/deprecation.py:70: DeprecationWarning: Function transform is deprecated; Support to use estimators as feature selectors will be removed in version 0.19. Use SelectFromModel instead.\n",
      "  warnings.warn(msg, category=DeprecationWarning)\n"
     ]
    },
    {
     "data": {
      "text/plain": [
       "array([[  1.44300000e+03,   3.00000000e+00,   3.00000000e+00, ...,\n",
       "          3.00000000e+00,   1.84090000e-02,   1.25400000e+03],\n",
       "       [  1.44300000e+03,   3.00000000e+00,   3.00000000e+00, ...,\n",
       "          3.00000000e+00,   1.84090000e-02,   1.25400000e+03],\n",
       "       [  1.44300000e+03,   3.00000000e+00,   3.00000000e+00, ...,\n",
       "          3.00000000e+00,   1.84090000e-02,   1.25400000e+03],\n",
       "       ..., \n",
       "       [  1.27200000e+03,   3.00000000e+00,   3.00000000e+00, ...,\n",
       "          3.00000000e+00,   3.61270000e-02,   1.32300000e+03],\n",
       "       [  1.27200000e+03,   3.00000000e+00,   3.00000000e+00, ...,\n",
       "          3.00000000e+00,   3.61270000e-02,   1.32300000e+03],\n",
       "       [  1.27200000e+03,   3.00000000e+00,   3.00000000e+00, ...,\n",
       "          3.00000000e+00,   3.61270000e-02,   1.32300000e+03]])"
      ]
     },
     "execution_count": 22,
     "metadata": {},
     "output_type": "execute_result"
    }
   ],
   "source": [
    "RF.fit_transform(X_train, Y_train)"
   ]
  },
  {
   "cell_type": "code",
   "execution_count": 35,
   "metadata": {},
   "outputs": [
    {
     "data": {
      "text/plain": [
       "array([   744.96464286,    584.7255    ,   1172.86      , ...,\n",
       "        20113.60166667,   2488.895     ,   4658.88166667])"
      ]
     },
     "execution_count": 35,
     "metadata": {},
     "output_type": "execute_result"
    }
   ],
   "source": [
    "prediction = RF.predict(X_test)\n",
    "prediction"
   ]
  },
  {
   "cell_type": "code",
   "execution_count": 36,
   "metadata": {},
   "outputs": [
    {
     "name": "stdout",
     "output_type": "stream",
     "text": [
      "Error cuadratico medio: 1862640894.80 \n"
     ]
    }
   ],
   "source": [
    "print (\"Error cuadratico medio: %.2f \" % np.mean((prediction - Y_test)**2))"
   ]
  },
  {
   "cell_type": "markdown",
   "metadata": {},
   "source": [
    "## MLP REGRESSOR"
   ]
  },
  {
   "cell_type": "code",
   "execution_count": 67,
   "metadata": {
    "collapsed": true
   },
   "outputs": [],
   "source": [
    "from sklearn.neural_network import MLPRegressor\n",
    "\n",
    "# Puedo variar el hidden_layer a mas grande o el random_state a mas grande\n",
    "MLP = MLPRegressor(\n",
    "    hidden_layer_sizes=(100,),  activation='relu', solver='adam', alpha=0.001, batch_size='auto',\n",
    "    learning_rate='constant', learning_rate_init=0.01, power_t=0.5, max_iter=1000, shuffle=True,\n",
    "    random_state=0, tol=0.0001, verbose=False, warm_start=False, momentum=0.9, nesterovs_momentum=True,\n",
    "    early_stopping=False, validation_fraction=0.1, beta_1=0.9, beta_2=0.999, epsilon=1e-08)\n"
   ]
  },
  {
   "cell_type": "markdown",
   "metadata": {},
   "source": [
    "# BENCHMARK\n",
    "## LINEAR_1 : Error cuadratico medio: 1849699707.76 \n",
    "                                                    \n",
    "## RANDOM FOREST:  Error cuadratico medio: 157041082.02\n",
    "\n",
    "## GRADIENT BOOST: Error cuadratico medio: 52043963.30 \n",
    "                                                                                \n"
   ]
  },
  {
   "cell_type": "code",
   "execution_count": null,
   "metadata": {
    "collapsed": true
   },
   "outputs": [],
   "source": []
  }
 ],
 "metadata": {
  "kernelspec": {
   "display_name": "Python 2",
   "language": "python",
   "name": "python2"
  },
  "language_info": {
   "codemirror_mode": {
    "name": "ipython",
    "version": 2
   },
   "file_extension": ".py",
   "mimetype": "text/x-python",
   "name": "python",
   "nbconvert_exporter": "python",
   "pygments_lexer": "ipython2",
   "version": "2.7.13"
  }
 },
 "nbformat": 4,
 "nbformat_minor": 2
}
