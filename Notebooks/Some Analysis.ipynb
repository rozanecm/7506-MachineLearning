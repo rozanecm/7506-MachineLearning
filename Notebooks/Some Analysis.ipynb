{
 "cells": [
  {
   "cell_type": "markdown",
   "metadata": {
    "deletable": true,
    "editable": true
   },
   "source": [
    "# TP2: Machine Learning"
   ]
  },
  {
   "cell_type": "code",
   "execution_count": 28,
   "metadata": {
    "collapsed": false,
    "deletable": true,
    "editable": true
   },
   "outputs": [],
   "source": [
    "import pandas as pd\n",
    "\n",
    "# import ML packages\n",
    "from sklearn.cluster import KMeans\n",
    "from sklearn.datasets import make_blobs\n",
    "\n",
    "# import Plotting pckgs\n",
    "from matplotlib import pyplot as plt\n",
    "%matplotlib inline"
   ]
  },
  {
   "cell_type": "code",
   "execution_count": 72,
   "metadata": {
    "collapsed": false,
    "deletable": true,
    "editable": true
   },
   "outputs": [
    {
     "data": {
      "text/plain": [
       "id                     int64\n",
       "duration               int64\n",
       "start_date            object\n",
       "start_dayOfWeek        int64\n",
       "start_week             int64\n",
       "start_quarter          int64\n",
       "start_time            object\n",
       "start_hour             int64\n",
       "start_minute           int64\n",
       "start_station_name    object\n",
       "start_station_id       int64\n",
       "end_date              object\n",
       "end_dayOfWeek          int64\n",
       "end_week               int64\n",
       "end_quarter            int64\n",
       "end_time              object\n",
       "end_hour               int64\n",
       "end_minute             int64\n",
       "end_station_name      object\n",
       "end_station_id         int64\n",
       "bike_id                int64\n",
       "subscription_type     object\n",
       "zip_code              object\n",
       "dtype: object"
      ]
     },
     "execution_count": 72,
     "metadata": {},
     "output_type": "execute_result"
    }
   ],
   "source": [
    "trainingSet = pd.read_csv('../CSVs/improved_trip_train.csv')\n",
    "testingSet = pd.read_csv('../CSVs/improved_trip_test.csv')\n",
    "trainingSet.dtypes"
   ]
  },
  {
   "cell_type": "code",
   "execution_count": 23,
   "metadata": {
    "collapsed": false,
    "deletable": true,
    "editable": true
   },
   "outputs": [
    {
     "data": {
      "text/html": [
       "<div>\n",
       "<table border=\"1\" class=\"dataframe\">\n",
       "  <thead>\n",
       "    <tr style=\"text-align: right;\">\n",
       "      <th></th>\n",
       "      <th>id</th>\n",
       "      <th>duration</th>\n",
       "      <th>start_date</th>\n",
       "      <th>start_dayOfWeek</th>\n",
       "      <th>start_week</th>\n",
       "      <th>start_quarter</th>\n",
       "      <th>start_time</th>\n",
       "      <th>start_hour</th>\n",
       "      <th>start_minute</th>\n",
       "      <th>start_station_name</th>\n",
       "      <th>...</th>\n",
       "      <th>end_week</th>\n",
       "      <th>end_quarter</th>\n",
       "      <th>end_time</th>\n",
       "      <th>end_hour</th>\n",
       "      <th>end_minute</th>\n",
       "      <th>end_station_name</th>\n",
       "      <th>end_station_id</th>\n",
       "      <th>bike_id</th>\n",
       "      <th>subscription_type</th>\n",
       "      <th>zip_code</th>\n",
       "    </tr>\n",
       "  </thead>\n",
       "  <tbody>\n",
       "    <tr>\n",
       "      <th>0</th>\n",
       "      <td>907649</td>\n",
       "      <td>396</td>\n",
       "      <td>2015-08-27</td>\n",
       "      <td>3</td>\n",
       "      <td>35</td>\n",
       "      <td>3</td>\n",
       "      <td>08:36:00</td>\n",
       "      <td>8</td>\n",
       "      <td>36</td>\n",
       "      <td>Harry Bridges Plaza (Ferry Building)</td>\n",
       "      <td>...</td>\n",
       "      <td>35</td>\n",
       "      <td>3</td>\n",
       "      <td>08:43:00</td>\n",
       "      <td>8</td>\n",
       "      <td>43</td>\n",
       "      <td>Embarcadero at Sansome</td>\n",
       "      <td>60</td>\n",
       "      <td>187</td>\n",
       "      <td>Subscriber</td>\n",
       "      <td>94602</td>\n",
       "    </tr>\n",
       "    <tr>\n",
       "      <th>1</th>\n",
       "      <td>384043</td>\n",
       "      <td>636</td>\n",
       "      <td>2014-07-28</td>\n",
       "      <td>0</td>\n",
       "      <td>31</td>\n",
       "      <td>3</td>\n",
       "      <td>22:06:00</td>\n",
       "      <td>22</td>\n",
       "      <td>6</td>\n",
       "      <td>Market at 10th</td>\n",
       "      <td>...</td>\n",
       "      <td>31</td>\n",
       "      <td>3</td>\n",
       "      <td>22:17:00</td>\n",
       "      <td>22</td>\n",
       "      <td>17</td>\n",
       "      <td>Washington at Kearny</td>\n",
       "      <td>46</td>\n",
       "      <td>417</td>\n",
       "      <td>Subscriber</td>\n",
       "      <td>94133</td>\n",
       "    </tr>\n",
       "    <tr>\n",
       "      <th>2</th>\n",
       "      <td>316176</td>\n",
       "      <td>334</td>\n",
       "      <td>2014-06-09</td>\n",
       "      <td>0</td>\n",
       "      <td>24</td>\n",
       "      <td>2</td>\n",
       "      <td>08:42:00</td>\n",
       "      <td>8</td>\n",
       "      <td>42</td>\n",
       "      <td>Market at Sansome</td>\n",
       "      <td>...</td>\n",
       "      <td>24</td>\n",
       "      <td>2</td>\n",
       "      <td>08:47:00</td>\n",
       "      <td>8</td>\n",
       "      <td>47</td>\n",
       "      <td>2nd at Folsom</td>\n",
       "      <td>62</td>\n",
       "      <td>281</td>\n",
       "      <td>Subscriber</td>\n",
       "      <td>94107</td>\n",
       "    </tr>\n",
       "    <tr>\n",
       "      <th>3</th>\n",
       "      <td>618874</td>\n",
       "      <td>666</td>\n",
       "      <td>2015-01-26</td>\n",
       "      <td>0</td>\n",
       "      <td>5</td>\n",
       "      <td>1</td>\n",
       "      <td>16:55:00</td>\n",
       "      <td>16</td>\n",
       "      <td>55</td>\n",
       "      <td>San Francisco Caltrain 2 (330 Townsend)</td>\n",
       "      <td>...</td>\n",
       "      <td>5</td>\n",
       "      <td>1</td>\n",
       "      <td>17:07:00</td>\n",
       "      <td>17</td>\n",
       "      <td>7</td>\n",
       "      <td>Temporary Transbay Terminal (Howard at Beale)</td>\n",
       "      <td>55</td>\n",
       "      <td>634</td>\n",
       "      <td>Subscriber</td>\n",
       "      <td>94602</td>\n",
       "    </tr>\n",
       "    <tr>\n",
       "      <th>4</th>\n",
       "      <td>910977</td>\n",
       "      <td>318</td>\n",
       "      <td>2015-08-29</td>\n",
       "      <td>5</td>\n",
       "      <td>35</td>\n",
       "      <td>3</td>\n",
       "      <td>15:09:00</td>\n",
       "      <td>15</td>\n",
       "      <td>9</td>\n",
       "      <td>Market at 10th</td>\n",
       "      <td>...</td>\n",
       "      <td>35</td>\n",
       "      <td>3</td>\n",
       "      <td>15:14:00</td>\n",
       "      <td>15</td>\n",
       "      <td>14</td>\n",
       "      <td>Powell Street BART</td>\n",
       "      <td>39</td>\n",
       "      <td>607</td>\n",
       "      <td>Subscriber</td>\n",
       "      <td>94709</td>\n",
       "    </tr>\n",
       "  </tbody>\n",
       "</table>\n",
       "<p>5 rows × 23 columns</p>\n",
       "</div>"
      ],
      "text/plain": [
       "       id  duration  start_date  start_dayOfWeek  start_week  start_quarter  \\\n",
       "0  907649       396  2015-08-27                3          35              3   \n",
       "1  384043       636  2014-07-28                0          31              3   \n",
       "2  316176       334  2014-06-09                0          24              2   \n",
       "3  618874       666  2015-01-26                0           5              1   \n",
       "4  910977       318  2015-08-29                5          35              3   \n",
       "\n",
       "  start_time  start_hour  start_minute  \\\n",
       "0   08:36:00           8            36   \n",
       "1   22:06:00          22             6   \n",
       "2   08:42:00           8            42   \n",
       "3   16:55:00          16            55   \n",
       "4   15:09:00          15             9   \n",
       "\n",
       "                        start_station_name    ...     end_week end_quarter  \\\n",
       "0     Harry Bridges Plaza (Ferry Building)    ...           35           3   \n",
       "1                           Market at 10th    ...           31           3   \n",
       "2                        Market at Sansome    ...           24           2   \n",
       "3  San Francisco Caltrain 2 (330 Townsend)    ...            5           1   \n",
       "4                           Market at 10th    ...           35           3   \n",
       "\n",
       "   end_time  end_hour  end_minute  \\\n",
       "0  08:43:00         8          43   \n",
       "1  22:17:00        22          17   \n",
       "2  08:47:00         8          47   \n",
       "3  17:07:00        17           7   \n",
       "4  15:14:00        15          14   \n",
       "\n",
       "                                end_station_name  end_station_id  bike_id  \\\n",
       "0                         Embarcadero at Sansome              60      187   \n",
       "1                           Washington at Kearny              46      417   \n",
       "2                                  2nd at Folsom              62      281   \n",
       "3  Temporary Transbay Terminal (Howard at Beale)              55      634   \n",
       "4                             Powell Street BART              39      607   \n",
       "\n",
       "  subscription_type  zip_code  \n",
       "0        Subscriber     94602  \n",
       "1        Subscriber     94133  \n",
       "2        Subscriber     94107  \n",
       "3        Subscriber     94602  \n",
       "4        Subscriber     94709  \n",
       "\n",
       "[5 rows x 23 columns]"
      ]
     },
     "execution_count": 23,
     "metadata": {},
     "output_type": "execute_result"
    }
   ],
   "source": [
    "trainingSet.head()"
   ]
  },
  {
   "cell_type": "code",
   "execution_count": 13,
   "metadata": {
    "collapsed": false,
    "deletable": true,
    "editable": true
   },
   "outputs": [
    {
     "ename": "KeyboardInterrupt",
     "evalue": "",
     "output_type": "error",
     "traceback": [
      "\u001b[0;31m---------------------------------------------------------------------------\u001b[0m",
      "\u001b[0;31mKeyboardInterrupt\u001b[0m                         Traceback (most recent call last)",
      "\u001b[0;32m<ipython-input-13-f7d61a02da33>\u001b[0m in \u001b[0;36m<module>\u001b[0;34m()\u001b[0m\n\u001b[1;32m      3\u001b[0m \u001b[0;34m\u001b[0m\u001b[0m\n\u001b[1;32m      4\u001b[0m \u001b[0mtrainingSet\u001b[0m\u001b[0;34m[\u001b[0m\u001b[0;34m'end_date'\u001b[0m\u001b[0;34m]\u001b[0m \u001b[0;34m=\u001b[0m \u001b[0mpd\u001b[0m\u001b[0;34m.\u001b[0m\u001b[0mto_datetime\u001b[0m\u001b[0;34m(\u001b[0m\u001b[0mtrainingSet\u001b[0m\u001b[0;34m.\u001b[0m\u001b[0mend_date\u001b[0m\u001b[0;34m)\u001b[0m\u001b[0;34m\u001b[0m\u001b[0m\n\u001b[0;32m----> 5\u001b[0;31m \u001b[0mtrainingSet\u001b[0m\u001b[0;34m[\u001b[0m\u001b[0;34m'end_time'\u001b[0m\u001b[0;34m]\u001b[0m \u001b[0;34m=\u001b[0m \u001b[0mpd\u001b[0m\u001b[0;34m.\u001b[0m\u001b[0mto_datetime\u001b[0m\u001b[0;34m(\u001b[0m\u001b[0mtrainingSet\u001b[0m\u001b[0;34m.\u001b[0m\u001b[0mend_time\u001b[0m\u001b[0;34m)\u001b[0m\u001b[0;34m\u001b[0m\u001b[0m\n\u001b[0m",
      "\u001b[0;32m/usr/lib/python2.7/dist-packages/pandas/util/decorators.pyc\u001b[0m in \u001b[0;36mwrapper\u001b[0;34m(*args, **kwargs)\u001b[0m\n\u001b[1;32m     87\u001b[0m                 \u001b[0;32melse\u001b[0m\u001b[0;34m:\u001b[0m\u001b[0;34m\u001b[0m\u001b[0m\n\u001b[1;32m     88\u001b[0m                     \u001b[0mkwargs\u001b[0m\u001b[0;34m[\u001b[0m\u001b[0mnew_arg_name\u001b[0m\u001b[0;34m]\u001b[0m \u001b[0;34m=\u001b[0m \u001b[0mnew_arg_value\u001b[0m\u001b[0;34m\u001b[0m\u001b[0m\n\u001b[0;32m---> 89\u001b[0;31m             \u001b[0;32mreturn\u001b[0m \u001b[0mfunc\u001b[0m\u001b[0;34m(\u001b[0m\u001b[0;34m*\u001b[0m\u001b[0margs\u001b[0m\u001b[0;34m,\u001b[0m \u001b[0;34m**\u001b[0m\u001b[0mkwargs\u001b[0m\u001b[0;34m)\u001b[0m\u001b[0;34m\u001b[0m\u001b[0m\n\u001b[0m\u001b[1;32m     90\u001b[0m         \u001b[0;32mreturn\u001b[0m \u001b[0mwrapper\u001b[0m\u001b[0;34m\u001b[0m\u001b[0m\n\u001b[1;32m     91\u001b[0m     \u001b[0;32mreturn\u001b[0m \u001b[0m_deprecate_kwarg\u001b[0m\u001b[0;34m\u001b[0m\u001b[0m\n",
      "\u001b[0;32m/usr/lib/python2.7/dist-packages/pandas/tseries/tools.pyc\u001b[0m in \u001b[0;36mto_datetime\u001b[0;34m(arg, errors, dayfirst, yearfirst, utc, box, format, exact, coerce, unit, infer_datetime_format)\u001b[0m\n\u001b[1;32m    274\u001b[0m     return _to_datetime(arg, errors=errors, dayfirst=dayfirst, yearfirst=yearfirst,\n\u001b[1;32m    275\u001b[0m                         \u001b[0mutc\u001b[0m\u001b[0;34m=\u001b[0m\u001b[0mutc\u001b[0m\u001b[0;34m,\u001b[0m \u001b[0mbox\u001b[0m\u001b[0;34m=\u001b[0m\u001b[0mbox\u001b[0m\u001b[0;34m,\u001b[0m \u001b[0mformat\u001b[0m\u001b[0;34m=\u001b[0m\u001b[0mformat\u001b[0m\u001b[0;34m,\u001b[0m \u001b[0mexact\u001b[0m\u001b[0;34m=\u001b[0m\u001b[0mexact\u001b[0m\u001b[0;34m,\u001b[0m\u001b[0;34m\u001b[0m\u001b[0m\n\u001b[0;32m--> 276\u001b[0;31m                         unit=unit, infer_datetime_format=infer_datetime_format)\n\u001b[0m\u001b[1;32m    277\u001b[0m \u001b[0;34m\u001b[0m\u001b[0m\n\u001b[1;32m    278\u001b[0m \u001b[0;34m\u001b[0m\u001b[0m\n",
      "\u001b[0;32m/usr/lib/python2.7/dist-packages/pandas/tseries/tools.pyc\u001b[0m in \u001b[0;36m_to_datetime\u001b[0;34m(arg, errors, dayfirst, yearfirst, utc, box, format, exact, unit, freq, infer_datetime_format)\u001b[0m\n\u001b[1;32m    388\u001b[0m         \u001b[0;32mreturn\u001b[0m \u001b[0marg\u001b[0m\u001b[0;34m\u001b[0m\u001b[0m\n\u001b[1;32m    389\u001b[0m     \u001b[0;32melif\u001b[0m \u001b[0misinstance\u001b[0m\u001b[0;34m(\u001b[0m\u001b[0marg\u001b[0m\u001b[0;34m,\u001b[0m \u001b[0mSeries\u001b[0m\u001b[0;34m)\u001b[0m\u001b[0;34m:\u001b[0m\u001b[0;34m\u001b[0m\u001b[0m\n\u001b[0;32m--> 390\u001b[0;31m         \u001b[0mvalues\u001b[0m \u001b[0;34m=\u001b[0m \u001b[0m_convert_listlike\u001b[0m\u001b[0;34m(\u001b[0m\u001b[0marg\u001b[0m\u001b[0;34m.\u001b[0m\u001b[0m_values\u001b[0m\u001b[0;34m,\u001b[0m \u001b[0mFalse\u001b[0m\u001b[0;34m,\u001b[0m \u001b[0mformat\u001b[0m\u001b[0;34m)\u001b[0m\u001b[0;34m\u001b[0m\u001b[0m\n\u001b[0m\u001b[1;32m    391\u001b[0m         \u001b[0;32mreturn\u001b[0m \u001b[0mSeries\u001b[0m\u001b[0;34m(\u001b[0m\u001b[0mvalues\u001b[0m\u001b[0;34m,\u001b[0m \u001b[0mindex\u001b[0m\u001b[0;34m=\u001b[0m\u001b[0marg\u001b[0m\u001b[0;34m.\u001b[0m\u001b[0mindex\u001b[0m\u001b[0;34m,\u001b[0m \u001b[0mname\u001b[0m\u001b[0;34m=\u001b[0m\u001b[0marg\u001b[0m\u001b[0;34m.\u001b[0m\u001b[0mname\u001b[0m\u001b[0;34m)\u001b[0m\u001b[0;34m\u001b[0m\u001b[0m\n\u001b[1;32m    392\u001b[0m     \u001b[0;32melif\u001b[0m \u001b[0misinstance\u001b[0m\u001b[0;34m(\u001b[0m\u001b[0marg\u001b[0m\u001b[0;34m,\u001b[0m \u001b[0mABCIndexClass\u001b[0m\u001b[0;34m)\u001b[0m\u001b[0;34m:\u001b[0m\u001b[0;34m\u001b[0m\u001b[0m\n",
      "\u001b[0;32m/usr/lib/python2.7/dist-packages/pandas/tseries/tools.pyc\u001b[0m in \u001b[0;36m_convert_listlike\u001b[0;34m(arg, box, format, name)\u001b[0m\n\u001b[1;32m    370\u001b[0m                                                  \u001b[0myearfirst\u001b[0m\u001b[0;34m=\u001b[0m\u001b[0myearfirst\u001b[0m\u001b[0;34m,\u001b[0m \u001b[0mfreq\u001b[0m\u001b[0;34m=\u001b[0m\u001b[0mfreq\u001b[0m\u001b[0;34m,\u001b[0m\u001b[0;34m\u001b[0m\u001b[0m\n\u001b[1;32m    371\u001b[0m                                                  \u001b[0munit\u001b[0m\u001b[0;34m=\u001b[0m\u001b[0munit\u001b[0m\u001b[0;34m,\u001b[0m\u001b[0;34m\u001b[0m\u001b[0m\n\u001b[0;32m--> 372\u001b[0;31m                                                  require_iso8601=require_iso8601)\n\u001b[0m\u001b[1;32m    373\u001b[0m \u001b[0;34m\u001b[0m\u001b[0m\n\u001b[1;32m    374\u001b[0m             \u001b[0;32mif\u001b[0m \u001b[0mcom\u001b[0m\u001b[0;34m.\u001b[0m\u001b[0mis_datetime64_dtype\u001b[0m\u001b[0;34m(\u001b[0m\u001b[0mresult\u001b[0m\u001b[0;34m)\u001b[0m \u001b[0;32mand\u001b[0m \u001b[0mbox\u001b[0m\u001b[0;34m:\u001b[0m\u001b[0;34m\u001b[0m\u001b[0m\n",
      "\u001b[0;32mpandas/tslib.pyx\u001b[0m in \u001b[0;36mpandas.tslib.array_to_datetime (pandas/tslib.c:37155)\u001b[0;34m()\u001b[0m\n",
      "\u001b[0;32mpandas/tslib.pyx\u001b[0m in \u001b[0;36mpandas.tslib.array_to_datetime (pandas/tslib.c:35447)\u001b[0;34m()\u001b[0m\n",
      "\u001b[0;32mpandas/tslib.pyx\u001b[0m in \u001b[0;36mpandas.tslib.parse_datetime_string (pandas/tslib.c:29125)\u001b[0;34m()\u001b[0m\n",
      "\u001b[0;32m/home/rozanecm/.local/lib/python2.7/site-packages/dateutil/parser.pyc\u001b[0m in \u001b[0;36mparse\u001b[0;34m(timestr, parserinfo, **kwargs)\u001b[0m\n\u001b[1;32m   1166\u001b[0m         \u001b[0;32mreturn\u001b[0m \u001b[0mparser\u001b[0m\u001b[0;34m(\u001b[0m\u001b[0mparserinfo\u001b[0m\u001b[0;34m)\u001b[0m\u001b[0;34m.\u001b[0m\u001b[0mparse\u001b[0m\u001b[0;34m(\u001b[0m\u001b[0mtimestr\u001b[0m\u001b[0;34m,\u001b[0m \u001b[0;34m**\u001b[0m\u001b[0mkwargs\u001b[0m\u001b[0;34m)\u001b[0m\u001b[0;34m\u001b[0m\u001b[0m\n\u001b[1;32m   1167\u001b[0m     \u001b[0;32melse\u001b[0m\u001b[0;34m:\u001b[0m\u001b[0;34m\u001b[0m\u001b[0m\n\u001b[0;32m-> 1168\u001b[0;31m         \u001b[0;32mreturn\u001b[0m \u001b[0mDEFAULTPARSER\u001b[0m\u001b[0;34m.\u001b[0m\u001b[0mparse\u001b[0m\u001b[0;34m(\u001b[0m\u001b[0mtimestr\u001b[0m\u001b[0;34m,\u001b[0m \u001b[0;34m**\u001b[0m\u001b[0mkwargs\u001b[0m\u001b[0;34m)\u001b[0m\u001b[0;34m\u001b[0m\u001b[0m\n\u001b[0m\u001b[1;32m   1169\u001b[0m \u001b[0;34m\u001b[0m\u001b[0m\n\u001b[1;32m   1170\u001b[0m \u001b[0;34m\u001b[0m\u001b[0m\n",
      "\u001b[0;32m/home/rozanecm/.local/lib/python2.7/site-packages/dateutil/parser.pyc\u001b[0m in \u001b[0;36mparse\u001b[0;34m(self, timestr, default, ignoretz, tzinfos, **kwargs)\u001b[0m\n\u001b[1;32m    554\u001b[0m             \u001b[0meffective_dt\u001b[0m \u001b[0;34m=\u001b[0m \u001b[0mdefault\u001b[0m\u001b[0;34m\u001b[0m\u001b[0m\n\u001b[1;32m    555\u001b[0m \u001b[0;34m\u001b[0m\u001b[0m\n\u001b[0;32m--> 556\u001b[0;31m         \u001b[0mres\u001b[0m\u001b[0;34m,\u001b[0m \u001b[0mskipped_tokens\u001b[0m \u001b[0;34m=\u001b[0m \u001b[0mself\u001b[0m\u001b[0;34m.\u001b[0m\u001b[0m_parse\u001b[0m\u001b[0;34m(\u001b[0m\u001b[0mtimestr\u001b[0m\u001b[0;34m,\u001b[0m \u001b[0;34m**\u001b[0m\u001b[0mkwargs\u001b[0m\u001b[0;34m)\u001b[0m\u001b[0;34m\u001b[0m\u001b[0m\n\u001b[0m\u001b[1;32m    557\u001b[0m \u001b[0;34m\u001b[0m\u001b[0m\n\u001b[1;32m    558\u001b[0m         \u001b[0;32mif\u001b[0m \u001b[0mres\u001b[0m \u001b[0;32mis\u001b[0m \u001b[0mNone\u001b[0m\u001b[0;34m:\u001b[0m\u001b[0;34m\u001b[0m\u001b[0m\n",
      "\u001b[0;32m/home/rozanecm/.local/lib/python2.7/site-packages/dateutil/parser.pyc\u001b[0m in \u001b[0;36m_parse\u001b[0;34m(self, timestr, dayfirst, yearfirst, fuzzy, fuzzy_with_tokens)\u001b[0m\n\u001b[1;32m    672\u001b[0m             \u001b[0myearfirst\u001b[0m \u001b[0;34m=\u001b[0m \u001b[0minfo\u001b[0m\u001b[0;34m.\u001b[0m\u001b[0myearfirst\u001b[0m\u001b[0;34m\u001b[0m\u001b[0m\n\u001b[1;32m    673\u001b[0m \u001b[0;34m\u001b[0m\u001b[0m\n\u001b[0;32m--> 674\u001b[0;31m         \u001b[0mres\u001b[0m \u001b[0;34m=\u001b[0m \u001b[0mself\u001b[0m\u001b[0;34m.\u001b[0m\u001b[0m_result\u001b[0m\u001b[0;34m(\u001b[0m\u001b[0;34m)\u001b[0m\u001b[0;34m\u001b[0m\u001b[0m\n\u001b[0m\u001b[1;32m    675\u001b[0m         \u001b[0ml\u001b[0m \u001b[0;34m=\u001b[0m \u001b[0m_timelex\u001b[0m\u001b[0;34m.\u001b[0m\u001b[0msplit\u001b[0m\u001b[0;34m(\u001b[0m\u001b[0mtimestr\u001b[0m\u001b[0;34m)\u001b[0m         \u001b[0;31m# Splits the timestr into tokens\u001b[0m\u001b[0;34m\u001b[0m\u001b[0m\n\u001b[1;32m    676\u001b[0m \u001b[0;34m\u001b[0m\u001b[0m\n",
      "\u001b[0;32m/home/rozanecm/.local/lib/python2.7/site-packages/dateutil/parser.pyc\u001b[0m in \u001b[0;36m__init__\u001b[0;34m(self)\u001b[0m\n\u001b[1;32m    212\u001b[0m     \u001b[0;32mdef\u001b[0m \u001b[0m__init__\u001b[0m\u001b[0;34m(\u001b[0m\u001b[0mself\u001b[0m\u001b[0;34m)\u001b[0m\u001b[0;34m:\u001b[0m\u001b[0;34m\u001b[0m\u001b[0m\n\u001b[1;32m    213\u001b[0m         \u001b[0;32mfor\u001b[0m \u001b[0mattr\u001b[0m \u001b[0;32min\u001b[0m \u001b[0mself\u001b[0m\u001b[0;34m.\u001b[0m\u001b[0m__slots__\u001b[0m\u001b[0;34m:\u001b[0m\u001b[0;34m\u001b[0m\u001b[0m\n\u001b[0;32m--> 214\u001b[0;31m             \u001b[0msetattr\u001b[0m\u001b[0;34m(\u001b[0m\u001b[0mself\u001b[0m\u001b[0;34m,\u001b[0m \u001b[0mattr\u001b[0m\u001b[0;34m,\u001b[0m \u001b[0mNone\u001b[0m\u001b[0;34m)\u001b[0m\u001b[0;34m\u001b[0m\u001b[0m\n\u001b[0m\u001b[1;32m    215\u001b[0m \u001b[0;34m\u001b[0m\u001b[0m\n\u001b[1;32m    216\u001b[0m     \u001b[0;32mdef\u001b[0m \u001b[0m_repr\u001b[0m\u001b[0;34m(\u001b[0m\u001b[0mself\u001b[0m\u001b[0;34m,\u001b[0m \u001b[0mclassname\u001b[0m\u001b[0;34m)\u001b[0m\u001b[0;34m:\u001b[0m\u001b[0;34m\u001b[0m\u001b[0m\n",
      "\u001b[0;31mKeyboardInterrupt\u001b[0m: "
     ]
    }
   ],
   "source": [
    "trainingSet['start_date'] = pd.to_datetime(trainingSet.start_date)\n",
    "trainingSet['start_time'] = pd.to_datetime(trainingSet.start_time)\n",
    "\n",
    "trainingSet['end_date'] = pd.to_datetime(trainingSet.end_date)\n",
    "trainingSet['end_time'] = pd.to_datetime(trainingSet.end_time)"
   ]
  },
  {
   "cell_type": "code",
   "execution_count": 14,
   "metadata": {
    "collapsed": false,
    "deletable": true,
    "editable": true
   },
   "outputs": [
    {
     "data": {
      "text/plain": [
       "id                             int64\n",
       "duration                       int64\n",
       "start_date            datetime64[ns]\n",
       "start_station_name            object\n",
       "start_station_id               int64\n",
       "end_date              datetime64[ns]\n",
       "end_station_name              object\n",
       "end_station_id                 int64\n",
       "bike_id                        int64\n",
       "subscription_type             object\n",
       "zip_code                      object\n",
       "start_dayOfWeek                int64\n",
       "start_week                     int64\n",
       "start_quarter                  int64\n",
       "start_time            datetime64[ns]\n",
       "start_hour                     int64\n",
       "start_minute                   int64\n",
       "end_dayOfWeek                  int64\n",
       "end_week                       int64\n",
       "end_quarter                    int64\n",
       "end_time                      object\n",
       "end_hour                       int64\n",
       "end_minute                     int64\n",
       "dtype: object"
      ]
     },
     "execution_count": 14,
     "metadata": {},
     "output_type": "execute_result"
    }
   ],
   "source": [
    "trainingSet.dtypes"
   ]
  },
  {
   "cell_type": "code",
   "execution_count": 15,
   "metadata": {
    "collapsed": false,
    "deletable": true,
    "editable": true
   },
   "outputs": [
    {
     "data": {
      "text/html": [
       "<div>\n",
       "<table border=\"1\" class=\"dataframe\">\n",
       "  <thead>\n",
       "    <tr style=\"text-align: right;\">\n",
       "      <th></th>\n",
       "      <th>id</th>\n",
       "      <th>duration</th>\n",
       "      <th>start_date</th>\n",
       "      <th>start_station_name</th>\n",
       "      <th>start_station_id</th>\n",
       "      <th>end_date</th>\n",
       "      <th>end_station_name</th>\n",
       "      <th>end_station_id</th>\n",
       "      <th>bike_id</th>\n",
       "      <th>subscription_type</th>\n",
       "      <th>...</th>\n",
       "      <th>start_quarter</th>\n",
       "      <th>start_time</th>\n",
       "      <th>start_hour</th>\n",
       "      <th>start_minute</th>\n",
       "      <th>end_dayOfWeek</th>\n",
       "      <th>end_week</th>\n",
       "      <th>end_quarter</th>\n",
       "      <th>end_time</th>\n",
       "      <th>end_hour</th>\n",
       "      <th>end_minute</th>\n",
       "    </tr>\n",
       "  </thead>\n",
       "  <tbody>\n",
       "    <tr>\n",
       "      <th>0</th>\n",
       "      <td>907649</td>\n",
       "      <td>396</td>\n",
       "      <td>2015-08-27</td>\n",
       "      <td>Harry Bridges Plaza (Ferry Building)</td>\n",
       "      <td>50</td>\n",
       "      <td>2015-08-27</td>\n",
       "      <td>Embarcadero at Sansome</td>\n",
       "      <td>60</td>\n",
       "      <td>187</td>\n",
       "      <td>Subscriber</td>\n",
       "      <td>...</td>\n",
       "      <td>3</td>\n",
       "      <td>2017-06-01 08:36:00</td>\n",
       "      <td>8</td>\n",
       "      <td>36</td>\n",
       "      <td>3</td>\n",
       "      <td>35</td>\n",
       "      <td>3</td>\n",
       "      <td>08:43:00</td>\n",
       "      <td>8</td>\n",
       "      <td>43</td>\n",
       "    </tr>\n",
       "    <tr>\n",
       "      <th>1</th>\n",
       "      <td>384043</td>\n",
       "      <td>636</td>\n",
       "      <td>2014-07-28</td>\n",
       "      <td>Market at 10th</td>\n",
       "      <td>67</td>\n",
       "      <td>2014-07-28</td>\n",
       "      <td>Washington at Kearny</td>\n",
       "      <td>46</td>\n",
       "      <td>417</td>\n",
       "      <td>Subscriber</td>\n",
       "      <td>...</td>\n",
       "      <td>3</td>\n",
       "      <td>2017-06-01 22:06:00</td>\n",
       "      <td>22</td>\n",
       "      <td>6</td>\n",
       "      <td>0</td>\n",
       "      <td>31</td>\n",
       "      <td>3</td>\n",
       "      <td>22:17:00</td>\n",
       "      <td>22</td>\n",
       "      <td>17</td>\n",
       "    </tr>\n",
       "    <tr>\n",
       "      <th>2</th>\n",
       "      <td>316176</td>\n",
       "      <td>334</td>\n",
       "      <td>2014-06-09</td>\n",
       "      <td>Market at Sansome</td>\n",
       "      <td>77</td>\n",
       "      <td>2014-06-09</td>\n",
       "      <td>2nd at Folsom</td>\n",
       "      <td>62</td>\n",
       "      <td>281</td>\n",
       "      <td>Subscriber</td>\n",
       "      <td>...</td>\n",
       "      <td>2</td>\n",
       "      <td>2017-06-01 08:42:00</td>\n",
       "      <td>8</td>\n",
       "      <td>42</td>\n",
       "      <td>0</td>\n",
       "      <td>24</td>\n",
       "      <td>2</td>\n",
       "      <td>08:47:00</td>\n",
       "      <td>8</td>\n",
       "      <td>47</td>\n",
       "    </tr>\n",
       "    <tr>\n",
       "      <th>3</th>\n",
       "      <td>618874</td>\n",
       "      <td>666</td>\n",
       "      <td>2015-01-26</td>\n",
       "      <td>San Francisco Caltrain 2 (330 Townsend)</td>\n",
       "      <td>69</td>\n",
       "      <td>2015-01-26</td>\n",
       "      <td>Temporary Transbay Terminal (Howard at Beale)</td>\n",
       "      <td>55</td>\n",
       "      <td>634</td>\n",
       "      <td>Subscriber</td>\n",
       "      <td>...</td>\n",
       "      <td>1</td>\n",
       "      <td>2017-06-01 16:55:00</td>\n",
       "      <td>16</td>\n",
       "      <td>55</td>\n",
       "      <td>0</td>\n",
       "      <td>5</td>\n",
       "      <td>1</td>\n",
       "      <td>17:07:00</td>\n",
       "      <td>17</td>\n",
       "      <td>7</td>\n",
       "    </tr>\n",
       "    <tr>\n",
       "      <th>4</th>\n",
       "      <td>910977</td>\n",
       "      <td>318</td>\n",
       "      <td>2015-08-29</td>\n",
       "      <td>Market at 10th</td>\n",
       "      <td>67</td>\n",
       "      <td>2015-08-29</td>\n",
       "      <td>Powell Street BART</td>\n",
       "      <td>39</td>\n",
       "      <td>607</td>\n",
       "      <td>Subscriber</td>\n",
       "      <td>...</td>\n",
       "      <td>3</td>\n",
       "      <td>2017-06-01 15:09:00</td>\n",
       "      <td>15</td>\n",
       "      <td>9</td>\n",
       "      <td>5</td>\n",
       "      <td>35</td>\n",
       "      <td>3</td>\n",
       "      <td>15:14:00</td>\n",
       "      <td>15</td>\n",
       "      <td>14</td>\n",
       "    </tr>\n",
       "  </tbody>\n",
       "</table>\n",
       "<p>5 rows × 23 columns</p>\n",
       "</div>"
      ],
      "text/plain": [
       "       id  duration start_date                       start_station_name  \\\n",
       "0  907649       396 2015-08-27     Harry Bridges Plaza (Ferry Building)   \n",
       "1  384043       636 2014-07-28                           Market at 10th   \n",
       "2  316176       334 2014-06-09                        Market at Sansome   \n",
       "3  618874       666 2015-01-26  San Francisco Caltrain 2 (330 Townsend)   \n",
       "4  910977       318 2015-08-29                           Market at 10th   \n",
       "\n",
       "   start_station_id   end_date                               end_station_name  \\\n",
       "0                50 2015-08-27                         Embarcadero at Sansome   \n",
       "1                67 2014-07-28                           Washington at Kearny   \n",
       "2                77 2014-06-09                                  2nd at Folsom   \n",
       "3                69 2015-01-26  Temporary Transbay Terminal (Howard at Beale)   \n",
       "4                67 2015-08-29                             Powell Street BART   \n",
       "\n",
       "   end_station_id  bike_id subscription_type     ...     start_quarter  \\\n",
       "0              60      187        Subscriber     ...                 3   \n",
       "1              46      417        Subscriber     ...                 3   \n",
       "2              62      281        Subscriber     ...                 2   \n",
       "3              55      634        Subscriber     ...                 1   \n",
       "4              39      607        Subscriber     ...                 3   \n",
       "\n",
       "           start_time  start_hour  start_minute end_dayOfWeek  end_week  \\\n",
       "0 2017-06-01 08:36:00           8            36             3        35   \n",
       "1 2017-06-01 22:06:00          22             6             0        31   \n",
       "2 2017-06-01 08:42:00           8            42             0        24   \n",
       "3 2017-06-01 16:55:00          16            55             0         5   \n",
       "4 2017-06-01 15:09:00          15             9             5        35   \n",
       "\n",
       "   end_quarter  end_time  end_hour  end_minute  \n",
       "0            3  08:43:00         8          43  \n",
       "1            3  22:17:00        22          17  \n",
       "2            2  08:47:00         8          47  \n",
       "3            1  17:07:00        17           7  \n",
       "4            3  15:14:00        15          14  \n",
       "\n",
       "[5 rows x 23 columns]"
      ]
     },
     "execution_count": 15,
     "metadata": {},
     "output_type": "execute_result"
    }
   ],
   "source": [
    "trainingSet.head()"
   ]
  },
  {
   "cell_type": "code",
   "execution_count": 16,
   "metadata": {
    "collapsed": false,
    "deletable": true,
    "editable": true
   },
   "outputs": [
    {
     "data": {
      "text/plain": [
       "(549961, 23)"
      ]
     },
     "execution_count": 16,
     "metadata": {},
     "output_type": "execute_result"
    }
   ],
   "source": [
    "trainingSet.shape"
   ]
  },
  {
   "cell_type": "code",
   "execution_count": 42,
   "metadata": {
    "collapsed": false,
    "scrolled": false
   },
   "outputs": [],
   "source": [
    "# Initialize the model with 2 parameters -- number of clusters and random state.\n",
    "kmeans_model = KMeans()\n",
    "# kmeans_model = KMeans(n_clusters=5, random_state=1)\n",
    "# Get only the numeric columns from games.\n",
    "good_columns = trainingSet._get_numeric_data()\n",
    "# good_columns\n",
    "\n",
    "# Fit the model using the good columns.\n",
    "kmeans_model.fit(good_columns)\n",
    "# Get the cluster assignments.\n",
    "labels = kmeans_model.labels_"
   ]
  },
  {
   "cell_type": "code",
   "execution_count": 48,
   "metadata": {
    "collapsed": false
   },
   "outputs": [
    {
     "data": {
      "image/png": "[encoded data removed]",
      "text/plain": [
       "<matplotlib.figure.Figure at 0x7f6c0e3ef390>"
      ]
     },
     "metadata": {},
     "output_type": "display_data"
    },
    {
     "name": "stdout",
     "output_type": "stream",
     "text": [
      "\n"
     ]
    }
   ],
   "source": [
    "# Import the PCA model.\n",
    "from sklearn.decomposition import PCA\n",
    "\n",
    "# Create a PCA model.\n",
    "pca_2 = PCA(2)\n",
    "# Fit the PCA model on the numeric columns from earlier.\n",
    "plot_columns = pca_2.fit_transform(good_columns)\n",
    "# Make a scatter plot of each game, shaded according to cluster assignment.\n",
    "plt.scatter(x=plot_columns[:,0], y=plot_columns[:,1], c=labels)\n",
    "# Show the plot.\n",
    "plt.show()"
   ]
  },
  {
   "cell_type": "markdown",
   "metadata": {},
   "source": [
    "### Let's study correlation between data"
   ]
  },
  {
   "cell_type": "code",
   "execution_count": 60,
   "metadata": {
    "collapsed": false
   },
   "outputs": [
    {
     "data": {
      "text/plain": [
       "id                 -0.003133\n",
       "duration            1.000000\n",
       "start_dayOfWeek     0.018351\n",
       "start_week          0.004002\n",
       "start_quarter       0.003648\n",
       "start_hour          0.002598\n",
       "start_minute        0.002586\n",
       "start_station_id   -0.007001\n",
       "end_dayOfWeek       0.013753\n",
       "end_week            0.002100\n",
       "end_quarter         0.001376\n",
       "end_hour            0.009626\n",
       "end_minute         -0.000530\n",
       "end_station_id     -0.006026\n",
       "bike_id            -0.001569\n",
       "Name: duration, dtype: float64"
      ]
     },
     "execution_count": 60,
     "metadata": {},
     "output_type": "execute_result"
    }
   ],
   "source": [
    "trainingSet.corr()['duration']"
   ]
  },
  {
   "cell_type": "markdown",
   "metadata": {},
   "source": [
    "We can see that the duration is most correlated with:\n",
    "    - start_dayOfWeek     0.018351\n",
    "    - end_dayOfWeek       0.013753\n",
    "    - end_hour            0.009626\n",
    "    - start_station_id   -0.007001"
   ]
  },
  {
   "cell_type": "code",
   "execution_count": 64,
   "metadata": {
    "collapsed": false
   },
   "outputs": [
    {
     "data": {
      "text/plain": [
       "['id',\n",
       " 'duration',\n",
       " 'start_date',\n",
       " 'start_dayOfWeek',\n",
       " 'start_week',\n",
       " 'start_quarter',\n",
       " 'start_time',\n",
       " 'start_hour',\n",
       " 'start_minute',\n",
       " 'start_station_name',\n",
       " 'start_station_id',\n",
       " 'end_date',\n",
       " 'end_dayOfWeek',\n",
       " 'end_week',\n",
       " 'end_quarter',\n",
       " 'end_time',\n",
       " 'end_hour',\n",
       " 'end_minute',\n",
       " 'end_station_name',\n",
       " 'end_station_id',\n",
       " 'bike_id',\n",
       " 'subscription_type',\n",
       " 'zip_code']"
      ]
     },
     "execution_count": 64,
     "metadata": {},
     "output_type": "execute_result"
    }
   ],
   "source": [
    "columns = trainingSet.columns.tolist()\n",
    "columns"
   ]
  },
  {
   "cell_type": "code",
   "execution_count": 68,
   "metadata": {
    "collapsed": false
   },
   "outputs": [
    {
     "data": {
      "text/plain": [
       "id                     int64\n",
       "duration               int64\n",
       "start_date            object\n",
       "start_dayOfWeek        int64\n",
       "start_week             int64\n",
       "start_quarter          int64\n",
       "start_time            object\n",
       "start_hour             int64\n",
       "start_minute           int64\n",
       "start_station_name    object\n",
       "start_station_id       int64\n",
       "end_date              object\n",
       "end_dayOfWeek          int64\n",
       "end_week               int64\n",
       "end_quarter            int64\n",
       "end_time              object\n",
       "end_hour               int64\n",
       "end_minute             int64\n",
       "end_station_name      object\n",
       "end_station_id         int64\n",
       "bike_id                int64\n",
       "subscription_type     object\n",
       "zip_code              object\n",
       "dtype: object"
      ]
     },
     "execution_count": 68,
     "metadata": {},
     "output_type": "execute_result"
    }
   ],
   "source": [
    "trainingSet.dtypes"
   ]
  },
  {
   "cell_type": "code",
   "execution_count": 69,
   "metadata": {
    "collapsed": false
   },
   "outputs": [],
   "source": [
    "# Filter the columns to remove ones we don't want.\n",
    "columns = [c for c in columns if c not in [\"start_date\", \"start_time\", \"start_station_name\",\\\n",
    "                                           \"end_date\", \"end_time\", \"end_station_name\", \"subscription_type\", \"zip_code\"]]\n",
    "\n",
    "# Store the variable we'll be predicting on.\n",
    "target = \"duration\""
   ]
  },
  {
   "cell_type": "code",
   "execution_count": 75,
   "metadata": {
    "collapsed": false
   },
   "outputs": [
    {
     "name": "stderr",
     "output_type": "stream",
     "text": [
      "/usr/local/lib/python2.7/dist-packages/sklearn/cross_validation.py:44: DeprecationWarning: This module was deprecated in version 0.18 in favor of the model_selection module into which all the refactored classes and functions are moved. Also note that the interface of the new CV iterators are different from that of this module. This module will be removed in 0.20.\n",
      "  \"This module will be removed in 0.20.\", DeprecationWarning)\n"
     ]
    },
    {
     "name": "stdout",
     "output_type": "stream",
     "text": [
      "(439969, 23)\n",
      "(109992, 23)\n"
     ]
    }
   ],
   "source": [
    "# Import a convenience function to split the sets.\n",
    "from sklearn.cross_validation import train_test_split\n",
    "\n",
    "# Generate the training set.  Set random_state to be able to replicate results.\n",
    "train = trainingSet.sample(frac=0.8, random_state=1)\n",
    "# Select anything not in the training set and put it in the testing set.\n",
    "test = trainingSet.loc[~trainingSet.index.isin(train.index)]\n",
    "# Print the shapes of both sets.\n",
    "print(train.shape)\n",
    "print(test.shape)"
   ]
  },
  {
   "cell_type": "code",
   "execution_count": 76,
   "metadata": {
    "collapsed": false
   },
   "outputs": [
    {
     "data": {
      "text/plain": [
       "LinearRegression(copy_X=True, fit_intercept=True, n_jobs=1, normalize=False)"
      ]
     },
     "execution_count": 76,
     "metadata": {},
     "output_type": "execute_result"
    }
   ],
   "source": [
    "# Import the linearregression model.\n",
    "from sklearn.linear_model import LinearRegression\n",
    "\n",
    "# Initialize the model class.\n",
    "model = LinearRegression()\n",
    "# Fit the model to the training data.\n",
    "model.fit(train[columns], train[target])"
   ]
  },
  {
   "cell_type": "code",
   "execution_count": 77,
   "metadata": {
    "collapsed": false
   },
   "outputs": [
    {
     "data": {
      "text/plain": [
       "3.5826619167207346e-20"
      ]
     },
     "execution_count": 77,
     "metadata": {},
     "output_type": "execute_result"
    }
   ],
   "source": [
    "# Import the scikit-learn function to compute error.\n",
    "from sklearn.metrics import mean_squared_error\n",
    "\n",
    "# Generate our predictions for the test set.\n",
    "predictions = model.predict(test[columns])\n",
    "\n",
    "# Compute error between our test predictions and the actual values.\n",
    "mean_squared_error(predictions, test[target])"
   ]
  }
 ],
 "metadata": {
  "kernelspec": {
   "display_name": "Python 2",
   "language": "python",
   "name": "python2"
  },
  "language_info": {
   "codemirror_mode": {
    "name": "ipython",
    "version": 2
   },
   "file_extension": ".py",
   "mimetype": "text/x-python",
   "name": "python",
   "nbconvert_exporter": "python",
   "pygments_lexer": "ipython2",
   "version": "2.7.12"
  }
 },
 "nbformat": 4,
 "nbformat_minor": 2
}
