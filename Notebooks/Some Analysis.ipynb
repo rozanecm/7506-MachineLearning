{
 "cells": [
  {
   "cell_type": "markdown",
   "metadata": {
    "deletable": true,
    "editable": true
   },
   "source": [
    "# TP2: Machine Learning"
   ]
  },
  {
   "cell_type": "code",
   "execution_count": 51,
   "metadata": {
    "collapsed": false,
    "deletable": true,
    "editable": true
   },
   "outputs": [],
   "source": [
    "import pandas as pd\n",
    "\n",
    "# import ML packages\n",
    "from sklearn.cluster import KMeans\n",
    "from sklearn.datasets import make_blobs\n",
    "from sklearn import linear_model\n",
    "from sklearn import preprocessing\n",
    "\n",
    "# import Plotting pckgs\n",
    "from matplotlib import pyplot as plt\n",
    "%matplotlib inline"
   ]
  },
  {
   "cell_type": "code",
   "execution_count": 52,
   "metadata": {
    "collapsed": false,
    "deletable": true,
    "editable": true
   },
   "outputs": [
    {
     "data": {
      "text/plain": [
       "id                     int64\n",
       "duration               int64\n",
       "start_date            object\n",
       "start_dayOfWeek        int64\n",
       "start_week             int64\n",
       "start_quarter          int64\n",
       "start_time            object\n",
       "start_hour             int64\n",
       "start_minute           int64\n",
       "start_station_name    object\n",
       "start_station_id       int64\n",
       "end_date              object\n",
       "end_dayOfWeek          int64\n",
       "end_week               int64\n",
       "end_quarter            int64\n",
       "end_time              object\n",
       "end_hour               int64\n",
       "end_minute             int64\n",
       "end_station_name      object\n",
       "end_station_id         int64\n",
       "bike_id                int64\n",
       "subscription_type     object\n",
       "zip_code              object\n",
       "dtype: object"
      ]
     },
     "execution_count": 52,
     "metadata": {},
     "output_type": "execute_result"
    }
   ],
   "source": [
    "trainingSet = pd.read_csv('../CSVs/improved_trip_train.csv')\n",
    "testingSet = pd.read_csv('../CSVs/improved_trip_test.csv')\n",
    "trainingSet.dtypes"
   ]
  },
  {
   "cell_type": "code",
   "execution_count": 53,
   "metadata": {
    "collapsed": false,
    "deletable": true,
    "editable": true
   },
   "outputs": [
    {
     "data": {
      "text/html": [
       "<div>\n",
       "<table border=\"1\" class=\"dataframe\">\n",
       "  <thead>\n",
       "    <tr style=\"text-align: right;\">\n",
       "      <th></th>\n",
       "      <th>id</th>\n",
       "      <th>duration</th>\n",
       "      <th>start_date</th>\n",
       "      <th>start_dayOfWeek</th>\n",
       "      <th>start_week</th>\n",
       "      <th>start_quarter</th>\n",
       "      <th>start_time</th>\n",
       "      <th>start_hour</th>\n",
       "      <th>start_minute</th>\n",
       "      <th>start_station_name</th>\n",
       "      <th>...</th>\n",
       "      <th>end_week</th>\n",
       "      <th>end_quarter</th>\n",
       "      <th>end_time</th>\n",
       "      <th>end_hour</th>\n",
       "      <th>end_minute</th>\n",
       "      <th>end_station_name</th>\n",
       "      <th>end_station_id</th>\n",
       "      <th>bike_id</th>\n",
       "      <th>subscription_type</th>\n",
       "      <th>zip_code</th>\n",
       "    </tr>\n",
       "  </thead>\n",
       "  <tbody>\n",
       "    <tr>\n",
       "      <th>0</th>\n",
       "      <td>907649</td>\n",
       "      <td>396</td>\n",
       "      <td>2015-08-27</td>\n",
       "      <td>3</td>\n",
       "      <td>35</td>\n",
       "      <td>3</td>\n",
       "      <td>08:36:00</td>\n",
       "      <td>8</td>\n",
       "      <td>36</td>\n",
       "      <td>Harry Bridges Plaza (Ferry Building)</td>\n",
       "      <td>...</td>\n",
       "      <td>35</td>\n",
       "      <td>3</td>\n",
       "      <td>08:43:00</td>\n",
       "      <td>8</td>\n",
       "      <td>43</td>\n",
       "      <td>Embarcadero at Sansome</td>\n",
       "      <td>60</td>\n",
       "      <td>187</td>\n",
       "      <td>Subscriber</td>\n",
       "      <td>94602</td>\n",
       "    </tr>\n",
       "    <tr>\n",
       "      <th>1</th>\n",
       "      <td>384043</td>\n",
       "      <td>636</td>\n",
       "      <td>2014-07-28</td>\n",
       "      <td>0</td>\n",
       "      <td>31</td>\n",
       "      <td>3</td>\n",
       "      <td>22:06:00</td>\n",
       "      <td>22</td>\n",
       "      <td>6</td>\n",
       "      <td>Market at 10th</td>\n",
       "      <td>...</td>\n",
       "      <td>31</td>\n",
       "      <td>3</td>\n",
       "      <td>22:17:00</td>\n",
       "      <td>22</td>\n",
       "      <td>17</td>\n",
       "      <td>Washington at Kearny</td>\n",
       "      <td>46</td>\n",
       "      <td>417</td>\n",
       "      <td>Subscriber</td>\n",
       "      <td>94133</td>\n",
       "    </tr>\n",
       "    <tr>\n",
       "      <th>2</th>\n",
       "      <td>316176</td>\n",
       "      <td>334</td>\n",
       "      <td>2014-06-09</td>\n",
       "      <td>0</td>\n",
       "      <td>24</td>\n",
       "      <td>2</td>\n",
       "      <td>08:42:00</td>\n",
       "      <td>8</td>\n",
       "      <td>42</td>\n",
       "      <td>Market at Sansome</td>\n",
       "      <td>...</td>\n",
       "      <td>24</td>\n",
       "      <td>2</td>\n",
       "      <td>08:47:00</td>\n",
       "      <td>8</td>\n",
       "      <td>47</td>\n",
       "      <td>2nd at Folsom</td>\n",
       "      <td>62</td>\n",
       "      <td>281</td>\n",
       "      <td>Subscriber</td>\n",
       "      <td>94107</td>\n",
       "    </tr>\n",
       "    <tr>\n",
       "      <th>3</th>\n",
       "      <td>618874</td>\n",
       "      <td>666</td>\n",
       "      <td>2015-01-26</td>\n",
       "      <td>0</td>\n",
       "      <td>5</td>\n",
       "      <td>1</td>\n",
       "      <td>16:55:00</td>\n",
       "      <td>16</td>\n",
       "      <td>55</td>\n",
       "      <td>San Francisco Caltrain 2 (330 Townsend)</td>\n",
       "      <td>...</td>\n",
       "      <td>5</td>\n",
       "      <td>1</td>\n",
       "      <td>17:07:00</td>\n",
       "      <td>17</td>\n",
       "      <td>7</td>\n",
       "      <td>Temporary Transbay Terminal (Howard at Beale)</td>\n",
       "      <td>55</td>\n",
       "      <td>634</td>\n",
       "      <td>Subscriber</td>\n",
       "      <td>94602</td>\n",
       "    </tr>\n",
       "    <tr>\n",
       "      <th>4</th>\n",
       "      <td>910977</td>\n",
       "      <td>318</td>\n",
       "      <td>2015-08-29</td>\n",
       "      <td>5</td>\n",
       "      <td>35</td>\n",
       "      <td>3</td>\n",
       "      <td>15:09:00</td>\n",
       "      <td>15</td>\n",
       "      <td>9</td>\n",
       "      <td>Market at 10th</td>\n",
       "      <td>...</td>\n",
       "      <td>35</td>\n",
       "      <td>3</td>\n",
       "      <td>15:14:00</td>\n",
       "      <td>15</td>\n",
       "      <td>14</td>\n",
       "      <td>Powell Street BART</td>\n",
       "      <td>39</td>\n",
       "      <td>607</td>\n",
       "      <td>Subscriber</td>\n",
       "      <td>94709</td>\n",
       "    </tr>\n",
       "  </tbody>\n",
       "</table>\n",
       "<p>5 rows × 23 columns</p>\n",
       "</div>"
      ],
      "text/plain": [
       "       id  duration  start_date  start_dayOfWeek  start_week  start_quarter  \\\n",
       "0  907649       396  2015-08-27                3          35              3   \n",
       "1  384043       636  2014-07-28                0          31              3   \n",
       "2  316176       334  2014-06-09                0          24              2   \n",
       "3  618874       666  2015-01-26                0           5              1   \n",
       "4  910977       318  2015-08-29                5          35              3   \n",
       "\n",
       "  start_time  start_hour  start_minute  \\\n",
       "0   08:36:00           8            36   \n",
       "1   22:06:00          22             6   \n",
       "2   08:42:00           8            42   \n",
       "3   16:55:00          16            55   \n",
       "4   15:09:00          15             9   \n",
       "\n",
       "                        start_station_name    ...     end_week end_quarter  \\\n",
       "0     Harry Bridges Plaza (Ferry Building)    ...           35           3   \n",
       "1                           Market at 10th    ...           31           3   \n",
       "2                        Market at Sansome    ...           24           2   \n",
       "3  San Francisco Caltrain 2 (330 Townsend)    ...            5           1   \n",
       "4                           Market at 10th    ...           35           3   \n",
       "\n",
       "   end_time  end_hour  end_minute  \\\n",
       "0  08:43:00         8          43   \n",
       "1  22:17:00        22          17   \n",
       "2  08:47:00         8          47   \n",
       "3  17:07:00        17           7   \n",
       "4  15:14:00        15          14   \n",
       "\n",
       "                                end_station_name  end_station_id  bike_id  \\\n",
       "0                         Embarcadero at Sansome              60      187   \n",
       "1                           Washington at Kearny              46      417   \n",
       "2                                  2nd at Folsom              62      281   \n",
       "3  Temporary Transbay Terminal (Howard at Beale)              55      634   \n",
       "4                             Powell Street BART              39      607   \n",
       "\n",
       "  subscription_type  zip_code  \n",
       "0        Subscriber     94602  \n",
       "1        Subscriber     94133  \n",
       "2        Subscriber     94107  \n",
       "3        Subscriber     94602  \n",
       "4        Subscriber     94709  \n",
       "\n",
       "[5 rows x 23 columns]"
      ]
     },
     "execution_count": 53,
     "metadata": {},
     "output_type": "execute_result"
    }
   ],
   "source": [
    "trainingSet.head()"
   ]
  },
  {
   "cell_type": "code",
   "execution_count": 54,
   "metadata": {
    "collapsed": false,
    "deletable": true,
    "editable": true
   },
   "outputs": [
    {
     "data": {
      "text/plain": [
       "(549961, 23)"
      ]
     },
     "execution_count": 54,
     "metadata": {},
     "output_type": "execute_result"
    }
   ],
   "source": [
    "trainingSet.shape"
   ]
  },
  {
   "cell_type": "code",
   "execution_count": 55,
   "metadata": {
    "collapsed": false
   },
   "outputs": [
    {
     "data": {
      "text/html": [
       "<div>\n",
       "<table border=\"1\" class=\"dataframe\">\n",
       "  <thead>\n",
       "    <tr style=\"text-align: right;\">\n",
       "      <th></th>\n",
       "      <th>id</th>\n",
       "      <th>start_date</th>\n",
       "      <th>start_dayOfWeek</th>\n",
       "      <th>start_week</th>\n",
       "      <th>start_quarter</th>\n",
       "      <th>start_time</th>\n",
       "      <th>start_hour</th>\n",
       "      <th>start_minute</th>\n",
       "      <th>start_station_name</th>\n",
       "      <th>start_station_id</th>\n",
       "      <th>...</th>\n",
       "      <th>end_week</th>\n",
       "      <th>end_quarter</th>\n",
       "      <th>end_time</th>\n",
       "      <th>end_hour</th>\n",
       "      <th>end_minute</th>\n",
       "      <th>end_station_name</th>\n",
       "      <th>end_station_id</th>\n",
       "      <th>bike_id</th>\n",
       "      <th>subscription_type</th>\n",
       "      <th>zip_code</th>\n",
       "    </tr>\n",
       "  </thead>\n",
       "  <tbody>\n",
       "    <tr>\n",
       "      <th>0</th>\n",
       "      <td>504737</td>\n",
       "      <td>2014-10-18</td>\n",
       "      <td>5</td>\n",
       "      <td>42</td>\n",
       "      <td>4</td>\n",
       "      <td>11:25:00</td>\n",
       "      <td>11</td>\n",
       "      <td>25</td>\n",
       "      <td>Embarcadero at Sansome</td>\n",
       "      <td>60</td>\n",
       "      <td>...</td>\n",
       "      <td>42</td>\n",
       "      <td>4</td>\n",
       "      <td>12:12:00</td>\n",
       "      <td>12</td>\n",
       "      <td>12</td>\n",
       "      <td>Powell at Post (Union Square)</td>\n",
       "      <td>71</td>\n",
       "      <td>426</td>\n",
       "      <td>Customer</td>\n",
       "      <td>77009</td>\n",
       "    </tr>\n",
       "    <tr>\n",
       "      <th>1</th>\n",
       "      <td>530846</td>\n",
       "      <td>2014-11-05</td>\n",
       "      <td>2</td>\n",
       "      <td>45</td>\n",
       "      <td>4</td>\n",
       "      <td>13:00:00</td>\n",
       "      <td>13</td>\n",
       "      <td>0</td>\n",
       "      <td>Embarcadero at Folsom</td>\n",
       "      <td>51</td>\n",
       "      <td>...</td>\n",
       "      <td>45</td>\n",
       "      <td>4</td>\n",
       "      <td>13:09:00</td>\n",
       "      <td>13</td>\n",
       "      <td>9</td>\n",
       "      <td>Broadway St at Battery St</td>\n",
       "      <td>82</td>\n",
       "      <td>454</td>\n",
       "      <td>Subscriber</td>\n",
       "      <td>94132</td>\n",
       "    </tr>\n",
       "    <tr>\n",
       "      <th>2</th>\n",
       "      <td>813140</td>\n",
       "      <td>2015-06-18</td>\n",
       "      <td>3</td>\n",
       "      <td>25</td>\n",
       "      <td>2</td>\n",
       "      <td>17:34:00</td>\n",
       "      <td>17</td>\n",
       "      <td>34</td>\n",
       "      <td>San Francisco Caltrain (Townsend at 4th)</td>\n",
       "      <td>70</td>\n",
       "      <td>...</td>\n",
       "      <td>25</td>\n",
       "      <td>2</td>\n",
       "      <td>17:37:00</td>\n",
       "      <td>17</td>\n",
       "      <td>37</td>\n",
       "      <td>2nd at Townsend</td>\n",
       "      <td>61</td>\n",
       "      <td>370</td>\n",
       "      <td>Subscriber</td>\n",
       "      <td>94107</td>\n",
       "    </tr>\n",
       "    <tr>\n",
       "      <th>3</th>\n",
       "      <td>897674</td>\n",
       "      <td>2015-08-20</td>\n",
       "      <td>3</td>\n",
       "      <td>34</td>\n",
       "      <td>3</td>\n",
       "      <td>07:06:00</td>\n",
       "      <td>7</td>\n",
       "      <td>6</td>\n",
       "      <td>Civic Center BART (7th at Market)</td>\n",
       "      <td>72</td>\n",
       "      <td>...</td>\n",
       "      <td>34</td>\n",
       "      <td>3</td>\n",
       "      <td>07:15:00</td>\n",
       "      <td>7</td>\n",
       "      <td>15</td>\n",
       "      <td>Townsend at 7th</td>\n",
       "      <td>65</td>\n",
       "      <td>451</td>\n",
       "      <td>Subscriber</td>\n",
       "      <td>94582</td>\n",
       "    </tr>\n",
       "    <tr>\n",
       "      <th>4</th>\n",
       "      <td>322830</td>\n",
       "      <td>2014-06-13</td>\n",
       "      <td>4</td>\n",
       "      <td>24</td>\n",
       "      <td>2</td>\n",
       "      <td>08:46:00</td>\n",
       "      <td>8</td>\n",
       "      <td>46</td>\n",
       "      <td>San Francisco Caltrain 2 (330 Townsend)</td>\n",
       "      <td>69</td>\n",
       "      <td>...</td>\n",
       "      <td>24</td>\n",
       "      <td>2</td>\n",
       "      <td>08:57:00</td>\n",
       "      <td>8</td>\n",
       "      <td>57</td>\n",
       "      <td>Embarcadero at Folsom</td>\n",
       "      <td>51</td>\n",
       "      <td>603</td>\n",
       "      <td>Subscriber</td>\n",
       "      <td>95014</td>\n",
       "    </tr>\n",
       "  </tbody>\n",
       "</table>\n",
       "<p>5 rows × 22 columns</p>\n",
       "</div>"
      ],
      "text/plain": [
       "       id  start_date  start_dayOfWeek  start_week  start_quarter start_time  \\\n",
       "0  504737  2014-10-18                5          42              4   11:25:00   \n",
       "1  530846  2014-11-05                2          45              4   13:00:00   \n",
       "2  813140  2015-06-18                3          25              2   17:34:00   \n",
       "3  897674  2015-08-20                3          34              3   07:06:00   \n",
       "4  322830  2014-06-13                4          24              2   08:46:00   \n",
       "\n",
       "   start_hour  start_minute                        start_station_name  \\\n",
       "0          11            25                    Embarcadero at Sansome   \n",
       "1          13             0                     Embarcadero at Folsom   \n",
       "2          17            34  San Francisco Caltrain (Townsend at 4th)   \n",
       "3           7             6         Civic Center BART (7th at Market)   \n",
       "4           8            46   San Francisco Caltrain 2 (330 Townsend)   \n",
       "\n",
       "   start_station_id    ...    end_week  end_quarter  end_time  end_hour  \\\n",
       "0                60    ...          42            4  12:12:00        12   \n",
       "1                51    ...          45            4  13:09:00        13   \n",
       "2                70    ...          25            2  17:37:00        17   \n",
       "3                72    ...          34            3  07:15:00         7   \n",
       "4                69    ...          24            2  08:57:00         8   \n",
       "\n",
       "  end_minute               end_station_name  end_station_id bike_id  \\\n",
       "0         12  Powell at Post (Union Square)              71     426   \n",
       "1          9      Broadway St at Battery St              82     454   \n",
       "2         37                2nd at Townsend              61     370   \n",
       "3         15                Townsend at 7th              65     451   \n",
       "4         57          Embarcadero at Folsom              51     603   \n",
       "\n",
       "   subscription_type  zip_code  \n",
       "0           Customer     77009  \n",
       "1         Subscriber     94132  \n",
       "2         Subscriber     94107  \n",
       "3         Subscriber     94582  \n",
       "4         Subscriber     95014  \n",
       "\n",
       "[5 rows x 22 columns]"
      ]
     },
     "execution_count": 55,
     "metadata": {},
     "output_type": "execute_result"
    }
   ],
   "source": [
    "testingSet.head()"
   ]
  },
  {
   "cell_type": "code",
   "execution_count": 56,
   "metadata": {
    "collapsed": false
   },
   "outputs": [
    {
     "data": {
      "text/plain": [
       "1113.4153549069842"
      ]
     },
     "execution_count": 56,
     "metadata": {},
     "output_type": "execute_result"
    }
   ],
   "source": [
    "trainingSet.duration.mean()"
   ]
  },
  {
   "cell_type": "markdown",
   "metadata": {
    "deletable": true,
    "editable": true
   },
   "source": [
    "### Let's study correlation between data"
   ]
  },
  {
   "cell_type": "code",
   "execution_count": 57,
   "metadata": {
    "collapsed": false,
    "deletable": true,
    "editable": true
   },
   "outputs": [
    {
     "data": {
      "text/plain": [
       "id                 -0.003133\n",
       "duration            1.000000\n",
       "start_dayOfWeek     0.018351\n",
       "start_week          0.004002\n",
       "start_quarter       0.003648\n",
       "start_hour          0.002598\n",
       "start_minute        0.002586\n",
       "start_station_id   -0.007001\n",
       "end_dayOfWeek       0.013753\n",
       "end_week            0.002100\n",
       "end_quarter         0.001376\n",
       "end_hour            0.009626\n",
       "end_minute         -0.000530\n",
       "end_station_id     -0.006026\n",
       "bike_id            -0.001569\n",
       "Name: duration, dtype: float64"
      ]
     },
     "execution_count": 57,
     "metadata": {},
     "output_type": "execute_result"
    }
   ],
   "source": [
    "trainingSet.corr()['duration']"
   ]
  },
  {
   "cell_type": "markdown",
   "metadata": {
    "deletable": true,
    "editable": true
   },
   "source": [
    "We can see that the duration is most correlated with:\n",
    "    - start_dayOfWeek     0.018351\n",
    "    - end_dayOfWeek       0.013753\n",
    "    - end_hour            0.009626\n",
    "    - start_station_id   -0.007001"
   ]
  },
  {
   "cell_type": "code",
   "execution_count": 58,
   "metadata": {
    "collapsed": false,
    "deletable": true,
    "editable": true
   },
   "outputs": [
    {
     "data": {
      "text/plain": [
       "['id',\n",
       " 'duration',\n",
       " 'start_date',\n",
       " 'start_dayOfWeek',\n",
       " 'start_week',\n",
       " 'start_quarter',\n",
       " 'start_time',\n",
       " 'start_hour',\n",
       " 'start_minute',\n",
       " 'start_station_name',\n",
       " 'start_station_id',\n",
       " 'end_date',\n",
       " 'end_dayOfWeek',\n",
       " 'end_week',\n",
       " 'end_quarter',\n",
       " 'end_time',\n",
       " 'end_hour',\n",
       " 'end_minute',\n",
       " 'end_station_name',\n",
       " 'end_station_id',\n",
       " 'bike_id',\n",
       " 'subscription_type',\n",
       " 'zip_code']"
      ]
     },
     "execution_count": 58,
     "metadata": {},
     "output_type": "execute_result"
    }
   ],
   "source": [
    "columns = trainingSet.columns.tolist()\n",
    "columns"
   ]
  },
  {
   "cell_type": "code",
   "execution_count": 59,
   "metadata": {
    "collapsed": false,
    "deletable": true,
    "editable": true
   },
   "outputs": [
    {
     "data": {
      "text/plain": [
       "id                     int64\n",
       "duration               int64\n",
       "start_date            object\n",
       "start_dayOfWeek        int64\n",
       "start_week             int64\n",
       "start_quarter          int64\n",
       "start_time            object\n",
       "start_hour             int64\n",
       "start_minute           int64\n",
       "start_station_name    object\n",
       "start_station_id       int64\n",
       "end_date              object\n",
       "end_dayOfWeek          int64\n",
       "end_week               int64\n",
       "end_quarter            int64\n",
       "end_time              object\n",
       "end_hour               int64\n",
       "end_minute             int64\n",
       "end_station_name      object\n",
       "end_station_id         int64\n",
       "bike_id                int64\n",
       "subscription_type     object\n",
       "zip_code              object\n",
       "dtype: object"
      ]
     },
     "execution_count": 59,
     "metadata": {},
     "output_type": "execute_result"
    }
   ],
   "source": [
    "trainingSet.dtypes"
   ]
  },
  {
   "cell_type": "code",
   "execution_count": 60,
   "metadata": {
    "collapsed": false
   },
   "outputs": [],
   "source": [
    "# Create linear regression object\n",
    "regr = linear_model.LinearRegression()"
   ]
  },
  {
   "cell_type": "code",
   "execution_count": 61,
   "metadata": {
    "collapsed": false
   },
   "outputs": [
    {
     "data": {
      "text/plain": [
       "(549961, 23)"
      ]
     },
     "execution_count": 61,
     "metadata": {},
     "output_type": "execute_result"
    }
   ],
   "source": [
    "trainingSet.shape"
   ]
  },
  {
   "cell_type": "code",
   "execution_count": 62,
   "metadata": {
    "collapsed": false
   },
   "outputs": [
    {
     "data": {
      "text/plain": [
       "LinearRegression(copy_X=True, fit_intercept=True, n_jobs=1, normalize=False)"
      ]
     },
     "execution_count": 62,
     "metadata": {},
     "output_type": "execute_result"
    }
   ],
   "source": [
    "# Train the model using the training sets\n",
    "regr.fit(trainingSet[['start_dayOfWeek', 'end_dayOfWeek', 'end_hour', 'start_station_id']], trainingSet.duration)"
   ]
  },
  {
   "cell_type": "code",
   "execution_count": 63,
   "metadata": {
    "collapsed": true
   },
   "outputs": [],
   "source": [
    "prediction = regr.predict(testingSet[['start_dayOfWeek', 'end_dayOfWeek', 'end_hour', 'start_station_id']])"
   ]
  },
  {
   "cell_type": "code",
   "execution_count": 64,
   "metadata": {
    "collapsed": false
   },
   "outputs": [
    {
     "data": {
      "text/plain": [
       "array([ 1603.57291201,  1069.66886325,  1298.99586064, ...,  1784.36773406,\n",
       "        1544.50655645,   596.68919218])"
      ]
     },
     "execution_count": 64,
     "metadata": {},
     "output_type": "execute_result"
    }
   ],
   "source": [
    "prediction"
   ]
  }
 ],
 "metadata": {
  "kernelspec": {
   "display_name": "Python 2",
   "language": "python",
   "name": "python2"
  },
  "language_info": {
   "codemirror_mode": {
    "name": "ipython",
    "version": 2
   },
   "file_extension": ".py",
   "mimetype": "text/x-python",
   "name": "python",
   "nbconvert_exporter": "python",
   "pygments_lexer": "ipython2",
   "version": "2.7.12"
  }
 },
 "nbformat": 4,
 "nbformat_minor": 2
}
